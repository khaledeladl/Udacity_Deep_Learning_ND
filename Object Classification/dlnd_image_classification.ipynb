{
 "cells": [
  {
   "cell_type": "markdown",
   "metadata": {
    "collapsed": true,
    "deletable": true,
    "editable": true
   },
   "source": [
    "# Image Classification\n",
    "In this project, you'll classify images from the [CIFAR-10 dataset](https://www.cs.toronto.edu/~kriz/cifar.html).  The dataset consists of airplanes, dogs, cats, and other objects. You'll preprocess the images, then train a convolutional neural network on all the samples. The images need to be normalized and the labels need to be one-hot encoded.  You'll get to apply what you learned and build a convolutional, max pooling, dropout, and fully connected layers.  At the end, you'll get to see your neural network's predictions on the sample images.\n",
    "## Get the Data\n",
    "Run the following cell to download the [CIFAR-10 dataset for python](https://www.cs.toronto.edu/~kriz/cifar-10-python.tar.gz)."
   ]
  },
  {
   "cell_type": "code",
   "execution_count": 1,
   "metadata": {
    "collapsed": false,
    "deletable": true,
    "editable": true
   },
   "outputs": [
    {
     "name": "stderr",
     "output_type": "stream",
     "text": [
      "CIFAR-10 Dataset: 171MB [00:30, 5.61MB/s]                              \n"
     ]
    },
    {
     "name": "stdout",
     "output_type": "stream",
     "text": [
      "All files found!\n"
     ]
    }
   ],
   "source": [
    "\"\"\"\n",
    "DON'T MODIFY ANYTHING IN THIS CELL THAT IS BELOW THIS LINE\n",
    "\"\"\"\n",
    "from urllib.request import urlretrieve\n",
    "from os.path import isfile, isdir\n",
    "from tqdm import tqdm\n",
    "import problem_unittests as tests\n",
    "import tarfile\n",
    "\n",
    "cifar10_dataset_folder_path = 'cifar-10-batches-py'\n",
    "\n",
    "class DLProgress(tqdm):\n",
    "    last_block = 0\n",
    "\n",
    "    def hook(self, block_num=1, block_size=1, total_size=None):\n",
    "        self.total = total_size\n",
    "        self.update((block_num - self.last_block) * block_size)\n",
    "        self.last_block = block_num\n",
    "\n",
    "if not isfile('cifar-10-python.tar.gz'):\n",
    "    with DLProgress(unit='B', unit_scale=True, miniters=1, desc='CIFAR-10 Dataset') as pbar:\n",
    "        urlretrieve(\n",
    "            'https://www.cs.toronto.edu/~kriz/cifar-10-python.tar.gz',\n",
    "            'cifar-10-python.tar.gz',\n",
    "            pbar.hook)\n",
    "\n",
    "if not isdir(cifar10_dataset_folder_path):\n",
    "    with tarfile.open('cifar-10-python.tar.gz') as tar:\n",
    "        tar.extractall()\n",
    "        tar.close()\n",
    "\n",
    "\n",
    "tests.test_folder_path(cifar10_dataset_folder_path)"
   ]
  },
  {
   "cell_type": "markdown",
   "metadata": {
    "deletable": true,
    "editable": true
   },
   "source": [
    "## Explore the Data\n",
    "The dataset is broken into batches to prevent your machine from running out of memory.  The CIFAR-10 dataset consists of 5 batches, named `data_batch_1`, `data_batch_2`, etc.. Each batch contains the labels and images that are one of the following:\n",
    "* airplane\n",
    "* automobile\n",
    "* bird\n",
    "* cat\n",
    "* deer\n",
    "* dog\n",
    "* frog\n",
    "* horse\n",
    "* ship\n",
    "* truck\n",
    "\n",
    "Understanding a dataset is part of making predictions on the data.  Play around with the code cell below by changing the `batch_id` and `sample_id`. The `batch_id` is the id for a batch (1-5). The `sample_id` is the id for a image and label pair in the batch.\n",
    "\n",
    "Ask yourself \"What are all possible labels?\", \"What is the range of values for the image data?\", \"Are the labels in order or random?\".  Answers to questions like these will help you preprocess the data and end up with better predictions."
   ]
  },
  {
   "cell_type": "code",
   "execution_count": 2,
   "metadata": {
    "collapsed": false,
    "deletable": true,
    "editable": true
   },
   "outputs": [
    {
     "name": "stdout",
     "output_type": "stream",
     "text": [
      "\n",
      "Stats of batch 1:\n",
      "Samples: 10000\n",
      "Label Counts: {0: 1005, 1: 974, 2: 1032, 3: 1016, 4: 999, 5: 937, 6: 1030, 7: 1001, 8: 1025, 9: 981}\n",
      "First 20 Labels: [6, 9, 9, 4, 1, 1, 2, 7, 8, 3, 4, 7, 7, 2, 9, 9, 9, 3, 2, 6]\n",
      "\n",
      "Example of Image 2:\n",
      "Image - Min Value: 20 Max Value: 255\n",
      "Image - Shape: (32, 32, 3)\n",
      "Label - Label Id: 9 Name: truck\n"
     ]
    },
    {
     "data": {
      "image/png": "[encoded data removed]",
      "text/plain": [
       "<matplotlib.figure.Figure at 0x7fcb7bb76e10>"
      ]
     },
     "metadata": {
      "image/png": {
       "height": 250,
       "width": 253
      }
     },
     "output_type": "display_data"
    }
   ],
   "source": [
    "%matplotlib inline\n",
    "%config InlineBackend.figure_format = 'retina'\n",
    "\n",
    "import helper\n",
    "import numpy as np\n",
    "\n",
    "# Explore the dataset\n",
    "batch_id = 1\n",
    "sample_id = 2\n",
    "helper.display_stats(cifar10_dataset_folder_path, batch_id, sample_id)"
   ]
  },
  {
   "cell_type": "markdown",
   "metadata": {
    "deletable": true,
    "editable": true
   },
   "source": [
    "## Implement Preprocess Functions\n",
    "### Normalize\n",
    "In the cell below, implement the `normalize` function to take in image data, `x`, and return it as a normalized Numpy array. The values should be in the range of 0 to 1, inclusive.  The return object should be the same shape as `x`."
   ]
  },
  {
   "cell_type": "code",
   "execution_count": 3,
   "metadata": {
    "collapsed": false,
    "deletable": true,
    "editable": true
   },
   "outputs": [
    {
     "name": "stdout",
     "output_type": "stream",
     "text": [
      "Tests Passed\n"
     ]
    }
   ],
   "source": [
    "def normalize(x):\n",
    "    \"\"\"\n",
    "    Normalize a list of sample image data in the range of 0 to 1\n",
    "    : x: List of image data.  The image shape is (32, 32, 3)\n",
    "    : return: Numpy array of normalize data\n",
    "    \"\"\"\n",
    "    # TODO: Implement Function\n",
    "    normalized=(x-np.min(x))/(np.max(x)-np.min(x))\n",
    "    return normalized\n",
    "\n",
    "\n",
    "\"\"\"\n",
    "DON'T MODIFY ANYTHING IN THIS CELL THAT IS BELOW THIS LINE\n",
    "\"\"\"\n",
    "tests.test_normalize(normalize)"
   ]
  },
  {
   "cell_type": "markdown",
   "metadata": {
    "deletable": true,
    "editable": true
   },
   "source": [
    "### One-hot encode\n",
    "Just like the previous code cell, you'll be implementing a function for preprocessing.  This time, you'll implement the `one_hot_encode` function. The input, `x`, are a list of labels.  Implement the function to return the list of labels as One-Hot encoded Numpy array.  The possible values for labels are 0 to 9. The one-hot encoding function should return the same encoding for each value between each call to `one_hot_encode`.  Make sure to save the map of encodings outside the function.\n",
    "\n",
    "Hint: Don't reinvent the wheel."
   ]
  },
  {
   "cell_type": "code",
   "execution_count": 4,
   "metadata": {
    "collapsed": false,
    "deletable": true,
    "editable": true
   },
   "outputs": [
    {
     "name": "stdout",
     "output_type": "stream",
     "text": [
      "Tests Passed\n"
     ]
    }
   ],
   "source": [
    "from sklearn.preprocessing import LabelBinarizer\n",
    "encode = LabelBinarizer()\n",
    "encode.fit([0,1,2,3,4,5,6,7,8,9])\n",
    "\n",
    "def one_hot_encode(x):\n",
    "    \"\"\"\n",
    "    One hot encode a list of sample labels. Return a one-hot encoded vector for each label.\n",
    "    : x: List of sample Labels\n",
    "    : return: Numpy array of one-hot encoded labels\n",
    "    \"\"\"\n",
    "    # TODO: Implement Function\n",
    "    return encode.transform(x)\n",
    "\n",
    "\n",
    "\"\"\"\n",
    "DON'T MODIFY ANYTHING IN THIS CELL THAT IS BELOW THIS LINE\n",
    "\"\"\"\n",
    "tests.test_one_hot_encode(one_hot_encode)\n",
    "\n"
   ]
  },
  {
   "cell_type": "markdown",
   "metadata": {
    "deletable": true,
    "editable": true
   },
   "source": [
    "### Randomize Data\n",
    "As you saw from exploring the data above, the order of the samples are randomized.  It doesn't hurt to randomize it again, but you don't need to for this dataset."
   ]
  },
  {
   "cell_type": "markdown",
   "metadata": {
    "deletable": true,
    "editable": true
   },
   "source": [
    "## Preprocess all the data and save it\n",
    "Running the code cell below will preprocess all the CIFAR-10 data and save it to file. The code below also uses 10% of the training data for validation."
   ]
  },
  {
   "cell_type": "code",
   "execution_count": 5,
   "metadata": {
    "collapsed": false,
    "deletable": true,
    "editable": true
   },
   "outputs": [],
   "source": [
    "\"\"\"\n",
    "DON'T MODIFY ANYTHING IN THIS CELL\n",
    "\"\"\"\n",
    "# Preprocess Training, Validation, and Testing Data\n",
    "helper.preprocess_and_save_data(cifar10_dataset_folder_path, normalize, one_hot_encode)"
   ]
  },
  {
   "cell_type": "markdown",
   "metadata": {
    "deletable": true,
    "editable": true
   },
   "source": [
    "# Check Point\n",
    "This is your first checkpoint.  If you ever decide to come back to this notebook or have to restart the notebook, you can start from here.  The preprocessed data has been saved to disk."
   ]
  },
  {
   "cell_type": "code",
   "execution_count": 6,
   "metadata": {
    "collapsed": true,
    "deletable": true,
    "editable": true
   },
   "outputs": [],
   "source": [
    "\"\"\"\n",
    "DON'T MODIFY ANYTHING IN THIS CELL\n",
    "\"\"\"\n",
    "import pickle\n",
    "import problem_unittests as tests\n",
    "import helper\n",
    "\n",
    "# Load the Preprocessed Validation data\n",
    "valid_features, valid_labels = pickle.load(open('preprocess_validation.p', mode='rb'))"
   ]
  },
  {
   "cell_type": "code",
   "execution_count": 7,
   "metadata": {
    "collapsed": false,
    "deletable": true,
    "editable": true
   },
   "outputs": [
    {
     "data": {
      "text/plain": [
       "(5000, 32, 32, 3)"
      ]
     },
     "execution_count": 7,
     "metadata": {},
     "output_type": "execute_result"
    }
   ],
   "source": [
    "valid_features.shape"
   ]
  },
  {
   "cell_type": "markdown",
   "metadata": {
    "deletable": true,
    "editable": true
   },
   "source": [
    "## Build the network\n",
    "For the neural network, you'll build each layer into a function.  Most of the code you've seen has been outside of functions. To test your code more thoroughly, we require that you put each layer in a function.  This allows us to give you better feedback and test for simple mistakes using our unittests before you submit your project.\n",
    "\n",
    "If you're finding it hard to dedicate enough time for this course a week, we've provided a small shortcut to this part of the project. In the next couple of problems, you'll have the option to use [TensorFlow Layers](https://www.tensorflow.org/api_docs/python/tf/layers) or [TensorFlow Layers (contrib)](https://www.tensorflow.org/api_guides/python/contrib.layers) to build each layer, except \"Convolutional & Max Pooling\" layer.  TF Layers is similar to Keras's and TFLearn's abstraction to layers, so it's easy to pickup.\n",
    "\n",
    "If you would like to get the most of this course, try to solve all the problems without TF Layers.  Let's begin!\n",
    "### Input\n",
    "The neural network needs to read the image data, one-hot encoded labels, and dropout keep probability. Implement the following functions\n",
    "* Implement `neural_net_image_input`\n",
    " * Return a [TF Placeholder](https://www.tensorflow.org/api_docs/python/tf/placeholder)\n",
    " * Set the shape using `image_shape` with batch size set to `None`.\n",
    " * Name the TensorFlow placeholder \"x\" using the TensorFlow `name` parameter in the [TF Placeholder](https://www.tensorflow.org/api_docs/python/tf/placeholder).\n",
    "* Implement `neural_net_label_input`\n",
    " * Return a [TF Placeholder](https://www.tensorflow.org/api_docs/python/tf/placeholder)\n",
    " * Set the shape using `n_classes` with batch size set to `None`.\n",
    " * Name the TensorFlow placeholder \"y\" using the TensorFlow `name` parameter in the [TF Placeholder](https://www.tensorflow.org/api_docs/python/tf/placeholder).\n",
    "* Implement `neural_net_keep_prob_input`\n",
    " * Return a [TF Placeholder](https://www.tensorflow.org/api_docs/python/tf/placeholder) for dropout keep probability.\n",
    " * Name the TensorFlow placeholder \"keep_prob\" using the TensorFlow `name` parameter in the [TF Placeholder](https://www.tensorflow.org/api_docs/python/tf/placeholder).\n",
    "\n",
    "These names will be used at the end of the project to load your saved model.\n",
    "\n",
    "Note: `None` for shapes in TensorFlow allow for a dynamic size."
   ]
  },
  {
   "cell_type": "code",
   "execution_count": 8,
   "metadata": {
    "collapsed": false,
    "deletable": true,
    "editable": true
   },
   "outputs": [
    {
     "name": "stdout",
     "output_type": "stream",
     "text": [
      "Image Input Tests Passed.\n",
      "Label Input Tests Passed.\n",
      "Keep Prob Tests Passed.\n"
     ]
    }
   ],
   "source": [
    "import tensorflow as tf\n",
    "\n",
    "def neural_net_image_input(image_shape):\n",
    "    \"\"\"\n",
    "    Return a Tensor for a bach of image input\n",
    "    : image_shape: Shape of the images\n",
    "    : return: Tensor for image input.\n",
    "    \"\"\"\n",
    "    # TODO: Implement Function\n",
    "    return tf.placeholder(tf.float32,[None,image_shape[0],image_shape[1],image_shape[2]],name='x')\n",
    "\n",
    "\n",
    "def neural_net_label_input(n_classes):\n",
    "    \"\"\"\n",
    "    Return a Tensor for a batch of label input\n",
    "    : n_classes: Number of classes\n",
    "    : return: Tensor for label input.\n",
    "    \"\"\"\n",
    "    # TODO: Implement Function\n",
    "    \n",
    "    return tf.placeholder(tf.float32,[None,n_classes],name='y')\n",
    "\n",
    "\n",
    "def neural_net_keep_prob_input():\n",
    "    \"\"\"\n",
    "    Return a Tensor for keep probability\n",
    "    : return: Tensor for keep probability.\n",
    "    \"\"\"\n",
    "    # TODO: Implement Function\n",
    "    return tf.placeholder(tf.float32,name='keep_prob')\n",
    "\n",
    "\n",
    "\"\"\"\n",
    "DON'T MODIFY ANYTHING IN THIS CELL THAT IS BELOW THIS LINE\n",
    "\"\"\"\n",
    "tf.reset_default_graph()\n",
    "tests.test_nn_image_inputs(neural_net_image_input)\n",
    "tests.test_nn_label_inputs(neural_net_label_input)\n",
    "tests.test_nn_keep_prob_inputs(neural_net_keep_prob_input)"
   ]
  },
  {
   "cell_type": "markdown",
   "metadata": {
    "deletable": true,
    "editable": true
   },
   "source": [
    "### Convolution and Max Pooling Layer\n",
    "Convolution layers have a lot of success with images. For this code cell, you should implement the function `conv2d_maxpool` to apply convolution then max pooling:\n",
    "* Create the weight and bias using `conv_ksize`, `conv_num_outputs` and the shape of `x_tensor`.\n",
    "* Apply a convolution to `x_tensor` using weight and `conv_strides`.\n",
    " * We recommend you use same padding, but you're welcome to use any padding.\n",
    "* Add bias\n",
    "* Add a nonlinear activation to the convolution.\n",
    "* Apply Max Pooling using `pool_ksize` and `pool_strides`.\n",
    " * We recommend you use same padding, but you're welcome to use any padding.\n",
    "\n",
    "Note: You **can't** use [TensorFlow Layers](https://www.tensorflow.org/api_docs/python/tf/layers) or [TensorFlow Layers (contrib)](https://www.tensorflow.org/api_guides/python/contrib.layers) for this layer.  You're free to use any TensorFlow package for all the other layers."
   ]
  },
  {
   "cell_type": "code",
   "execution_count": 11,
   "metadata": {
    "collapsed": false,
    "deletable": true,
    "editable": true
   },
   "outputs": [
    {
     "name": "stdout",
     "output_type": "stream",
     "text": [
      "Tests Passed\n"
     ]
    }
   ],
   "source": [
    "def conv2d_maxpool(x_tensor, conv_num_outputs, conv_ksize, conv_strides, pool_ksize, pool_strides):\n",
    "    \"\"\"\n",
    "    Apply convolution then max pooling to x_tensor\n",
    "    :param x_tensor: TensorFlow Tensor\n",
    "    :param conv_num_outputs: Number of outputs for the convolutional layer\n",
    "    :param conv_strides: Stride 2-D Tuple for convolution\n",
    "    :param pool_ksize: kernal size 2-D Tuple for pool\n",
    "    :param pool_strides: Stride 2-D Tuple for pool\n",
    "    : return: A tensor that represents convolution and max pooling of x_tensor\n",
    "    \"\"\"\n",
    "    # TODO: Implement Function\n",
    "    weight = tf.Variable(tf.truncated_normal([conv_ksize[0],conv_ksize[1],x_tensor.get_shape().as_list()[3],conv_num_outputs]))\n",
    "    conv_layer = tf.nn.conv2d(x_tensor,weight,[1,conv_strides[0],conv_strides[1],1],padding='SAME')\n",
    "    \n",
    "    bias = tf.Variable(tf.zeros(conv_num_outputs))\n",
    "    conv_layer = tf.nn.bias_add(conv_layer,bias)\n",
    "    conv_layer = tf.nn.relu(conv_layer)\n",
    "    \n",
    "    conv_layer = tf.nn.max_pool(conv_layer,ksize=[1,pool_ksize[0],pool_ksize[1],1],strides=[1,pool_strides[0],pool_strides[1],1],padding='SAME')\n",
    "    \n",
    "    return conv_layer \n",
    "\n",
    "\n",
    "\"\"\"\n",
    "DON'T MODIFY ANYTHING IN THIS CELL THAT IS BELOW THIS LINE\n",
    "\"\"\"\n",
    "tests.test_con_pool(conv2d_maxpool)"
   ]
  },
  {
   "cell_type": "markdown",
   "metadata": {
    "deletable": true,
    "editable": true
   },
   "source": [
    "### Flatten Layer\n",
    "Implement the `flatten` function to change the dimension of `x_tensor` from a 4-D tensor to a 2-D tensor.  The output should be the shape (*Batch Size*, *Flattened Image Size*). You can use [TensorFlow Layers](https://www.tensorflow.org/api_docs/python/tf/layers) or [TensorFlow Layers (contrib)](https://www.tensorflow.org/api_guides/python/contrib.layers) for this layer."
   ]
  },
  {
   "cell_type": "code",
   "execution_count": 12,
   "metadata": {
    "collapsed": false,
    "deletable": true,
    "editable": true
   },
   "outputs": [
    {
     "data": {
      "text/plain": [
       "<tf.Tensor 'Reshape:0' shape=(10, 1800) dtype=float32>"
      ]
     },
     "execution_count": 12,
     "metadata": {},
     "output_type": "execute_result"
    }
   ],
   "source": [
    "test_x = tf.placeholder(tf.float32, [10, 10, 30, 6])\n",
    "tf.reshape(test_x,[test_x.get_shape().as_list()[0],-1])\n"
   ]
  },
  {
   "cell_type": "code",
   "execution_count": 13,
   "metadata": {
    "collapsed": false,
    "deletable": true,
    "editable": true
   },
   "outputs": [
    {
     "name": "stdout",
     "output_type": "stream",
     "text": [
      "Tests Passed\n"
     ]
    }
   ],
   "source": [
    "def flatten(x_tensor):\n",
    "    \"\"\"\n",
    "    Flatten x_tensor to (Batch Size, Flattened Image Size)\n",
    "    : x_tensor: A tensor of size (Batch Size, ...), where ... are the image dimensions.\n",
    "    : return: A tensor of size (Batch Size, Flattened Image Size).\n",
    "    \"\"\"\n",
    "    # TODO: Implement Function\n",
    "    \n",
    "    return tf.contrib.layers.flatten(x_tensor)\n",
    "\n",
    "\n",
    "\"\"\"\n",
    "DON'T MODIFY ANYTHING IN THIS CELL THAT IS BELOW THIS LINE\n",
    "\"\"\"\n",
    "tests.test_flatten(flatten)"
   ]
  },
  {
   "cell_type": "markdown",
   "metadata": {
    "deletable": true,
    "editable": true
   },
   "source": [
    "### Fully-Connected Layer\n",
    "Implement the `fully_conn` function to apply a fully connected layer to `x_tensor` with the shape (*Batch Size*, *num_outputs*). You can use [TensorFlow Layers](https://www.tensorflow.org/api_docs/python/tf/layers) or [TensorFlow Layers (contrib)](https://www.tensorflow.org/api_guides/python/contrib.layers) for this layer."
   ]
  },
  {
   "cell_type": "code",
   "execution_count": 14,
   "metadata": {
    "collapsed": false,
    "deletable": true,
    "editable": true
   },
   "outputs": [
    {
     "data": {
      "text/plain": [
       "128"
      ]
     },
     "execution_count": 14,
     "metadata": {},
     "output_type": "execute_result"
    }
   ],
   "source": [
    "test_x = tf.placeholder(tf.float32, [None, 128])\n",
    "test_num_outputs = 40\n",
    "test_x.get_shape().as_list()[1]"
   ]
  },
  {
   "cell_type": "code",
   "execution_count": 15,
   "metadata": {
    "collapsed": false,
    "deletable": true,
    "editable": true
   },
   "outputs": [
    {
     "name": "stdout",
     "output_type": "stream",
     "text": [
      "Tests Passed\n"
     ]
    }
   ],
   "source": [
    "def fully_conn(x_tensor, num_outputs):\n",
    "    \"\"\"\n",
    "    Apply a fully connected layer to x_tensor using weight and bias\n",
    "    : x_tensor: A 2-D tensor where the first dimension is batch size.\n",
    "    : num_outputs: The number of output that the new tensor should be.\n",
    "    : return: A 2-D tensor where the second dimension is num_outputs.\n",
    "    \"\"\"\n",
    "    # TODO: Implement Function\n",
    "#    weight =tf.placeholder(tf.float32)\n",
    "#    bias =tf.placeholder(tf.float32)\n",
    "    \n",
    "#    weight = tf.Variable(tf.truncated_normal([x_tensor.get_shape().as_list()[1],num_outputs]))\n",
    "#    bias = tf.Variable(tf.zeros(num_outputs))\n",
    "    \n",
    "#    logits = tf.add(tf.matmul(x_tensor,weight),bias)\n",
    "#    logits = tf.nn.softmax_cross_entropy_with_logits(logits,num_outputs)\n",
    "#    dense = tf.layers.dense(use_bias=True,inputs=x_tensor, units=num_outputs, activation=tf.nn.relu)\n",
    "    dense = tf.contrib.layers.fully_connected(inputs=x_tensor,activation_fn=tf.nn.relu,num_outputs=num_outputs)\n",
    "    return dense\n",
    "\n",
    "\n",
    "\"\"\"\n",
    "DON'T MODIFY ANYTHING IN THIS CELL THAT IS BELOW THIS LINE\n",
    "\"\"\"\n",
    "tests.test_fully_conn(fully_conn)"
   ]
  },
  {
   "cell_type": "markdown",
   "metadata": {
    "deletable": true,
    "editable": true
   },
   "source": [
    "### Output Layer\n",
    "Implement the `output` function to apply a fully connected layer to `x_tensor` with the shape (*Batch Size*, *num_outputs*). You can use [TensorFlow Layers](https://www.tensorflow.org/api_docs/python/tf/layers) or [TensorFlow Layers (contrib)](https://www.tensorflow.org/api_guides/python/contrib.layers) for this layer.\n",
    "\n",
    "Note: Activation, softmax, or cross entropy shouldn't be applied to this."
   ]
  },
  {
   "cell_type": "code",
   "execution_count": 16,
   "metadata": {
    "collapsed": false,
    "deletable": true,
    "editable": true
   },
   "outputs": [
    {
     "name": "stdout",
     "output_type": "stream",
     "text": [
      "Tests Passed\n"
     ]
    }
   ],
   "source": [
    "def output(x_tensor, num_outputs):\n",
    "    \"\"\"\n",
    "    Apply a output layer to x_tensor using weight and bias\n",
    "    : x_tensor: A 2-D tensor where the first dimension is batch size.\n",
    "    : num_outputs: The number of output that the new tensor should be.\n",
    "    : return: A 2-D tensor where the second dimension is num_outputs.\n",
    "    \"\"\"\n",
    "    # TODO: Implement Function\n",
    "    dense = tf.contrib.layers.fully_connected(inputs=x_tensor,num_outputs=num_outputs)\n",
    "    return dense\n",
    "\n",
    "\n",
    "\"\"\"\n",
    "DON'T MODIFY ANYTHING IN THIS CELL THAT IS BELOW THIS LINE\n",
    "\"\"\"\n",
    "tests.test_output(output)"
   ]
  },
  {
   "cell_type": "markdown",
   "metadata": {
    "deletable": true,
    "editable": true
   },
   "source": [
    "### Create Convolutional Model\n",
    "Implement the function `conv_net` to create a convolutional neural network model. The function takes in a batch of images, `x`, and outputs logits.  Use the layers you created above to create this model:\n",
    "\n",
    "* Apply 1, 2, or 3 Convolution and Max Pool layers\n",
    "* Apply a Flatten Layer\n",
    "* Apply 1, 2, or 3 Fully Connected Layers\n",
    "* Apply an Output Layer\n",
    "* Return the output\n",
    "* Apply [TensorFlow's Dropout](https://www.tensorflow.org/api_docs/python/tf/nn/dropout) to one or more layers in the model using `keep_prob`. "
   ]
  },
  {
   "cell_type": "code",
   "execution_count": 27,
   "metadata": {
    "collapsed": false,
    "deletable": true,
    "editable": true
   },
   "outputs": [
    {
     "name": "stdout",
     "output_type": "stream",
     "text": [
      "Neural Network Built!\n"
     ]
    }
   ],
   "source": [
    "def conv_net(x, keep_prob):\n",
    "    \"\"\"\n",
    "    Create a convolutional neural network model\n",
    "    : x: Placeholder tensor that holds image data.\n",
    "    : keep_prob: Placeholder tensor that hold dropout keep probability.\n",
    "    : return: Tensor that represents logits\n",
    "    \"\"\"\n",
    "    # TODO: Apply 1, 2, or 3 Convolution and Max Pool layers\n",
    "    #    Play around with different number of outputs, kernel size and stride\n",
    "    # Function Definition from Above:\n",
    "    conv_layer=conv2d_maxpool(x_tensor=x, conv_num_outputs=200, conv_ksize=(2,2), conv_strides=(2,2), pool_ksize=(2,2)\n",
    "                              , pool_strides=(2,2))\n",
    "    \n",
    "\n",
    "    # TODO: Apply a Flatten Layer\n",
    "    # Function Definition from Above:\n",
    "    flat =flatten(conv_layer)\n",
    "    \n",
    "\n",
    "    # TODO: Apply 1, 2, or 3 Fully Connected Layers\n",
    "    #    Play around with different number of outputs\n",
    "    # Function Definition from Above:\n",
    "    fully = fully_conn(x_tensor=flat, num_outputs=50)\n",
    "    fully2 = fully_conn(x_tensor=fully, num_outputs=30)\n",
    "    dropped = tf.nn.dropout(x=fully2,keep_prob=keep_prob)\n",
    "    fully3 = fully_conn(x_tensor=dropped, num_outputs=20)\n",
    "    dropped = tf.nn.dropout(x=fully3,keep_prob=keep_prob)\n",
    "    \n",
    "    # TODO: Apply an Output Layer\n",
    "    #    Set this to the number of classes\n",
    "    # Function Definition from Above:\n",
    "    \n",
    "    \n",
    "    \n",
    "    # TODO: return output\n",
    "    return output(x_tensor=dropped, num_outputs=10)\n",
    "\n",
    "\n",
    "\"\"\"\n",
    "DON'T MODIFY ANYTHING IN THIS CELL THAT IS BELOW THIS LINE\n",
    "\"\"\"\n",
    "\n",
    "##############################\n",
    "## Build the Neural Network ##\n",
    "##############################\n",
    "\n",
    "# Remove previous weights, bias, inputs, etc..\n",
    "tf.reset_default_graph()\n",
    "\n",
    "# Inputs\n",
    "x = neural_net_image_input((32, 32, 3))\n",
    "y = neural_net_label_input(10)\n",
    "keep_prob = neural_net_keep_prob_input()\n",
    "\n",
    "# Model\n",
    "logits = conv_net(x, keep_prob)\n",
    "\n",
    "# Name logits Tensor, so that is can be loaded from disk after training\n",
    "logits = tf.identity(logits, name='logits')\n",
    "\n",
    "# Loss and Optimizer\n",
    "cost = tf.reduce_mean(tf.nn.softmax_cross_entropy_with_logits(logits=logits, labels=y))\n",
    "optimizer = tf.train.AdamOptimizer().minimize(cost)\n",
    "\n",
    "# Accuracy\n",
    "correct_pred = tf.equal(tf.argmax(logits, 1), tf.argmax(y, 1))\n",
    "accuracy = tf.reduce_mean(tf.cast(correct_pred, tf.float32), name='accuracy')\n",
    "\n",
    "tests.test_conv_net(conv_net)"
   ]
  },
  {
   "cell_type": "markdown",
   "metadata": {
    "deletable": true,
    "editable": true
   },
   "source": [
    "## Train the Neural Network\n",
    "### Single Optimization\n",
    "Implement the function `train_neural_network` to do a single optimization.  The optimization should use `optimizer` to optimize in `session` with a `feed_dict` of the following:\n",
    "* `x` for image input\n",
    "* `y` for labels\n",
    "* `keep_prob` for keep probability for dropout\n",
    "\n",
    "This function will be called for each batch, so `tf.global_variables_initializer()` has already been called.\n",
    "\n",
    "Note: Nothing needs to be returned. This function is only optimizing the neural network."
   ]
  },
  {
   "cell_type": "code",
   "execution_count": 23,
   "metadata": {
    "collapsed": false,
    "deletable": true,
    "editable": true
   },
   "outputs": [
    {
     "name": "stdout",
     "output_type": "stream",
     "text": [
      "Tests Passed\n"
     ]
    }
   ],
   "source": [
    "def train_neural_network(session, optimizer, keep_probability, feature_batch, label_batch):\n",
    "    \"\"\"\n",
    "    Optimize the session on a batch of images and labels\n",
    "    : session: Current TensorFlow session\n",
    "    : optimizer: TensorFlow optimizer function\n",
    "    : keep_probability: keep probability\n",
    "    : feature_batch: Batch of Numpy image data\n",
    "    : label_batch: Batch of Numpy label data\n",
    "    \"\"\"\n",
    "    # TODO: Implement Function\n",
    "    session.run(optimizer,feed_dict={x:feature_batch,y:label_batch,keep_prob:keep_probability})\n",
    "\n",
    "\"\"\"\n",
    "DON'T MODIFY ANYTHING IN THIS CELL THAT IS BELOW THIS LINE\n",
    "\"\"\"\n",
    "tests.test_train_nn(train_neural_network)"
   ]
  },
  {
   "cell_type": "markdown",
   "metadata": {
    "deletable": true,
    "editable": true
   },
   "source": [
    "### Show Stats\n",
    "Implement the function `print_stats` to print loss and validation accuracy.  Use the global variables `valid_features` and `valid_labels` to calculate validation accuracy.  Use a keep probability of `1.0` to calculate the loss and validation accuracy."
   ]
  },
  {
   "cell_type": "code",
   "execution_count": 24,
   "metadata": {
    "collapsed": false,
    "deletable": true,
    "editable": true
   },
   "outputs": [],
   "source": [
    "def print_stats(session, feature_batch, label_batch, cost, accuracy):\n",
    "    \"\"\"\n",
    "    Print information about loss and validation accuracy\n",
    "    : session: Current TensorFlow session\n",
    "    : feature_batch: Batch of Numpy image data\n",
    "    : label_batch: Batch of Numpy label data\n",
    "    : cost: TensorFlow cost function\n",
    "    : accuracy: TensorFlow accuracy function\n",
    "    \"\"\"\n",
    "    # TODO: Implement Function\n",
    "    loss = sess.run(cost, feed_dict={\n",
    "    x: feature_batch,\n",
    "    y: label_batch,\n",
    "    keep_prob: 1.})\n",
    "    valid_acc = sess.run(accuracy, feed_dict={\n",
    "    x: valid_features,\n",
    "    y: valid_labels,\n",
    "    keep_prob: 1.})\n",
    "\n",
    "    print('Loss: {:>10.4f} Validation Accuracy: {:.6f}'.format(loss,valid_acc))"
   ]
  },
  {
   "cell_type": "markdown",
   "metadata": {
    "deletable": true,
    "editable": true
   },
   "source": [
    "### Hyperparameters\n",
    "Tune the following parameters:\n",
    "* Set `epochs` to the number of iterations until the network stops learning or start overfitting\n",
    "* Set `batch_size` to the highest number that your machine has memory for.  Most people set them to common sizes of memory:\n",
    " * 64\n",
    " * 128\n",
    " * 256\n",
    " * ...\n",
    "* Set `keep_probability` to the probability of keeping a node using dropout"
   ]
  },
  {
   "cell_type": "code",
   "execution_count": 25,
   "metadata": {
    "collapsed": true,
    "deletable": true,
    "editable": true
   },
   "outputs": [],
   "source": [
    "# TODO: Tune Parameters\n",
    "epochs = 100\n",
    "batch_size = 265\n",
    "keep_probability = .7"
   ]
  },
  {
   "cell_type": "markdown",
   "metadata": {
    "deletable": true,
    "editable": true
   },
   "source": [
    "### Train on a Single CIFAR-10 Batch\n",
    "Instead of training the neural network on all the CIFAR-10 batches of data, let's use a single batch. This should save time while you iterate on the model to get a better accuracy.  Once the final validation accuracy is 50% or greater, run the model on all the data in the next section."
   ]
  },
  {
   "cell_type": "code",
   "execution_count": 28,
   "metadata": {
    "collapsed": false,
    "deletable": true,
    "editable": true
   },
   "outputs": [
    {
     "name": "stdout",
     "output_type": "stream",
     "text": [
      "Checking the Training on a Single Batch...\n",
      "Epoch  1, CIFAR-10 Batch 1:  Loss:     2.2845 Validation Accuracy: 0.158200\n",
      "Epoch  2, CIFAR-10 Batch 1:  Loss:     2.2424 Validation Accuracy: 0.182600\n",
      "Epoch  3, CIFAR-10 Batch 1:  Loss:     2.1863 Validation Accuracy: 0.239200\n",
      "Epoch  4, CIFAR-10 Batch 1:  Loss:     2.1118 Validation Accuracy: 0.247200\n",
      "Epoch  5, CIFAR-10 Batch 1:  Loss:     2.0735 Validation Accuracy: 0.244600\n",
      "Epoch  6, CIFAR-10 Batch 1:  Loss:     1.9422 Validation Accuracy: 0.323600\n",
      "Epoch  7, CIFAR-10 Batch 1:  Loss:     1.9096 Validation Accuracy: 0.333200\n",
      "Epoch  8, CIFAR-10 Batch 1:  Loss:     1.8554 Validation Accuracy: 0.335800\n",
      "Epoch  9, CIFAR-10 Batch 1:  Loss:     1.8018 Validation Accuracy: 0.358200\n",
      "Epoch 10, CIFAR-10 Batch 1:  Loss:     1.7393 Validation Accuracy: 0.370200\n",
      "Epoch 11, CIFAR-10 Batch 1:  Loss:     1.7055 Validation Accuracy: 0.375200\n",
      "Epoch 12, CIFAR-10 Batch 1:  Loss:     1.6990 Validation Accuracy: 0.388600\n",
      "Epoch 13, CIFAR-10 Batch 1:  Loss:     1.7036 Validation Accuracy: 0.376200\n",
      "Epoch 14, CIFAR-10 Batch 1:  Loss:     1.6125 Validation Accuracy: 0.402800\n",
      "Epoch 15, CIFAR-10 Batch 1:  Loss:     1.5886 Validation Accuracy: 0.384200\n",
      "Epoch 16, CIFAR-10 Batch 1:  Loss:     1.5860 Validation Accuracy: 0.407800\n",
      "Epoch 17, CIFAR-10 Batch 1:  Loss:     1.4989 Validation Accuracy: 0.420000\n",
      "Epoch 18, CIFAR-10 Batch 1:  Loss:     1.4596 Validation Accuracy: 0.424400\n",
      "Epoch 19, CIFAR-10 Batch 1:  Loss:     1.4715 Validation Accuracy: 0.416400\n",
      "Epoch 20, CIFAR-10 Batch 1:  Loss:     1.3876 Validation Accuracy: 0.433200\n",
      "Epoch 21, CIFAR-10 Batch 1:  Loss:     1.3920 Validation Accuracy: 0.441000\n",
      "Epoch 22, CIFAR-10 Batch 1:  Loss:     1.3721 Validation Accuracy: 0.449800\n",
      "Epoch 23, CIFAR-10 Batch 1:  Loss:     1.3295 Validation Accuracy: 0.458400\n",
      "Epoch 24, CIFAR-10 Batch 1:  Loss:     1.3589 Validation Accuracy: 0.444400\n",
      "Epoch 25, CIFAR-10 Batch 1:  Loss:     1.3040 Validation Accuracy: 0.466600\n",
      "Epoch 26, CIFAR-10 Batch 1:  Loss:     1.2976 Validation Accuracy: 0.483000\n",
      "Epoch 27, CIFAR-10 Batch 1:  Loss:     1.2891 Validation Accuracy: 0.478800\n",
      "Epoch 28, CIFAR-10 Batch 1:  Loss:     1.2659 Validation Accuracy: 0.488400\n",
      "Epoch 29, CIFAR-10 Batch 1:  Loss:     1.2385 Validation Accuracy: 0.477200\n",
      "Epoch 30, CIFAR-10 Batch 1:  Loss:     1.2507 Validation Accuracy: 0.463600\n",
      "Epoch 31, CIFAR-10 Batch 1:  Loss:     1.2001 Validation Accuracy: 0.484600\n",
      "Epoch 32, CIFAR-10 Batch 1:  Loss:     1.1570 Validation Accuracy: 0.483800\n",
      "Epoch 33, CIFAR-10 Batch 1:  Loss:     1.1796 Validation Accuracy: 0.472400\n",
      "Epoch 34, CIFAR-10 Batch 1:  Loss:     1.1510 Validation Accuracy: 0.479400\n",
      "Epoch 35, CIFAR-10 Batch 1:  Loss:     1.1389 Validation Accuracy: 0.482800\n",
      "Epoch 36, CIFAR-10 Batch 1:  Loss:     1.1365 Validation Accuracy: 0.475200\n",
      "Epoch 37, CIFAR-10 Batch 1:  Loss:     1.0936 Validation Accuracy: 0.493400\n",
      "Epoch 38, CIFAR-10 Batch 1:  Loss:     1.1126 Validation Accuracy: 0.495000\n",
      "Epoch 39, CIFAR-10 Batch 1:  Loss:     1.0910 Validation Accuracy: 0.496800\n",
      "Epoch 40, CIFAR-10 Batch 1:  Loss:     1.0523 Validation Accuracy: 0.504200\n",
      "Epoch 41, CIFAR-10 Batch 1:  Loss:     1.0454 Validation Accuracy: 0.505000\n",
      "Epoch 42, CIFAR-10 Batch 1:  Loss:     0.9887 Validation Accuracy: 0.507200\n",
      "Epoch 43, CIFAR-10 Batch 1:  Loss:     0.9964 Validation Accuracy: 0.509600\n",
      "Epoch 44, CIFAR-10 Batch 1:  Loss:     0.9963 Validation Accuracy: 0.510400\n",
      "Epoch 45, CIFAR-10 Batch 1:  Loss:     1.0005 Validation Accuracy: 0.498200\n",
      "Epoch 46, CIFAR-10 Batch 1:  Loss:     0.9811 Validation Accuracy: 0.506800\n",
      "Epoch 47, CIFAR-10 Batch 1:  Loss:     0.9268 Validation Accuracy: 0.513000\n",
      "Epoch 48, CIFAR-10 Batch 1:  Loss:     0.9791 Validation Accuracy: 0.482400\n",
      "Epoch 49, CIFAR-10 Batch 1:  Loss:     0.9590 Validation Accuracy: 0.487000\n",
      "Epoch 50, CIFAR-10 Batch 1:  Loss:     0.9174 Validation Accuracy: 0.509400\n",
      "Epoch 51, CIFAR-10 Batch 1:  Loss:     0.9476 Validation Accuracy: 0.486800\n",
      "Epoch 52, CIFAR-10 Batch 1:  Loss:     0.9735 Validation Accuracy: 0.494200\n",
      "Epoch 53, CIFAR-10 Batch 1:  Loss:     0.9387 Validation Accuracy: 0.493600\n",
      "Epoch 54, CIFAR-10 Batch 1:  Loss:     0.8832 Validation Accuracy: 0.512200\n",
      "Epoch 55, CIFAR-10 Batch 1:  Loss:     0.8633 Validation Accuracy: 0.516800\n",
      "Epoch 56, CIFAR-10 Batch 1:  Loss:     0.8387 Validation Accuracy: 0.512200\n",
      "Epoch 57, CIFAR-10 Batch 1:  Loss:     0.8366 Validation Accuracy: 0.513600\n",
      "Epoch 58, CIFAR-10 Batch 1:  Loss:     0.8113 Validation Accuracy: 0.513800\n",
      "Epoch 59, CIFAR-10 Batch 1:  Loss:     0.8069 Validation Accuracy: 0.503400\n",
      "Epoch 60, CIFAR-10 Batch 1:  Loss:     0.8018 Validation Accuracy: 0.511800\n",
      "Epoch 61, CIFAR-10 Batch 1:  Loss:     0.7935 Validation Accuracy: 0.512400\n",
      "Epoch 62, CIFAR-10 Batch 1:  Loss:     0.7995 Validation Accuracy: 0.509200\n",
      "Epoch 63, CIFAR-10 Batch 1:  Loss:     0.7954 Validation Accuracy: 0.501400\n",
      "Epoch 64, CIFAR-10 Batch 1:  Loss:     0.7447 Validation Accuracy: 0.514600\n",
      "Epoch 65, CIFAR-10 Batch 1:  Loss:     0.7824 Validation Accuracy: 0.509600\n",
      "Epoch 66, CIFAR-10 Batch 1:  Loss:     0.7671 Validation Accuracy: 0.508800\n",
      "Epoch 67, CIFAR-10 Batch 1:  Loss:     0.7772 Validation Accuracy: 0.499600\n",
      "Epoch 68, CIFAR-10 Batch 1:  Loss:     0.7357 Validation Accuracy: 0.506800\n",
      "Epoch 69, CIFAR-10 Batch 1:  Loss:     0.7733 Validation Accuracy: 0.507400\n",
      "Epoch 70, CIFAR-10 Batch 1:  Loss:     0.7111 Validation Accuracy: 0.508000\n",
      "Epoch 71, CIFAR-10 Batch 1:  Loss:     0.7284 Validation Accuracy: 0.510200\n",
      "Epoch 72, CIFAR-10 Batch 1:  Loss:     0.6874 Validation Accuracy: 0.510800\n",
      "Epoch 73, CIFAR-10 Batch 1:  Loss:     0.6616 Validation Accuracy: 0.514400\n",
      "Epoch 74, CIFAR-10 Batch 1:  Loss:     0.6822 Validation Accuracy: 0.507600\n",
      "Epoch 75, CIFAR-10 Batch 1:  Loss:     0.7087 Validation Accuracy: 0.497200\n",
      "Epoch 76, CIFAR-10 Batch 1:  Loss:     0.6671 Validation Accuracy: 0.518400\n",
      "Epoch 77, CIFAR-10 Batch 1:  Loss:     0.6845 Validation Accuracy: 0.508200\n",
      "Epoch 78, CIFAR-10 Batch 1:  Loss:     0.6854 Validation Accuracy: 0.499600\n",
      "Epoch 79, CIFAR-10 Batch 1:  Loss:     0.7039 Validation Accuracy: 0.496400\n",
      "Epoch 80, CIFAR-10 Batch 1:  Loss:     0.6448 Validation Accuracy: 0.510400\n",
      "Epoch 81, CIFAR-10 Batch 1:  Loss:     0.6052 Validation Accuracy: 0.505400\n",
      "Epoch 82, CIFAR-10 Batch 1:  Loss:     0.6229 Validation Accuracy: 0.504200\n",
      "Epoch 83, CIFAR-10 Batch 1:  Loss:     0.6011 Validation Accuracy: 0.499000\n",
      "Epoch 84, CIFAR-10 Batch 1:  Loss:     0.5900 Validation Accuracy: 0.501200\n",
      "Epoch 85, CIFAR-10 Batch 1:  Loss:     0.6131 Validation Accuracy: 0.486600\n",
      "Epoch 86, CIFAR-10 Batch 1:  Loss:     0.6141 Validation Accuracy: 0.488000\n",
      "Epoch 87, CIFAR-10 Batch 1:  Loss:     0.6363 Validation Accuracy: 0.486600\n",
      "Epoch 88, CIFAR-10 Batch 1:  Loss:     0.6122 Validation Accuracy: 0.493600\n",
      "Epoch 89, CIFAR-10 Batch 1:  Loss:     0.5959 Validation Accuracy: 0.499800\n",
      "Epoch 90, CIFAR-10 Batch 1:  Loss:     0.6463 Validation Accuracy: 0.502000\n",
      "Epoch 91, CIFAR-10 Batch 1:  Loss:     0.6017 Validation Accuracy: 0.511800\n",
      "Epoch 92, CIFAR-10 Batch 1:  Loss:     0.5549 Validation Accuracy: 0.508200\n",
      "Epoch 93, CIFAR-10 Batch 1:  Loss:     0.5710 Validation Accuracy: 0.498800\n",
      "Epoch 94, CIFAR-10 Batch 1:  Loss:     0.5800 Validation Accuracy: 0.502200\n",
      "Epoch 95, CIFAR-10 Batch 1:  Loss:     0.5533 Validation Accuracy: 0.502200\n",
      "Epoch 96, CIFAR-10 Batch 1:  Loss:     0.5418 Validation Accuracy: 0.511400\n",
      "Epoch 97, CIFAR-10 Batch 1:  Loss:     0.5333 Validation Accuracy: 0.506600\n",
      "Epoch 98, CIFAR-10 Batch 1:  Loss:     0.5279 Validation Accuracy: 0.502400\n",
      "Epoch 99, CIFAR-10 Batch 1:  Loss:     0.5467 Validation Accuracy: 0.500000\n",
      "Epoch 100, CIFAR-10 Batch 1:  Loss:     0.5371 Validation Accuracy: 0.504200\n"
     ]
    }
   ],
   "source": [
    "\"\"\"\n",
    "DON'T MODIFY ANYTHING IN THIS CELL\n",
    "\"\"\"\n",
    "print('Checking the Training on a Single Batch...')\n",
    "with tf.Session() as sess:\n",
    "    # Initializing the variables\n",
    "    sess.run(tf.global_variables_initializer())\n",
    "    \n",
    "    # Training cycle\n",
    "    for epoch in range(epochs):\n",
    "        batch_i = 1\n",
    "        for batch_features, batch_labels in helper.load_preprocess_training_batch(batch_i, batch_size):\n",
    "            train_neural_network(sess, optimizer, keep_probability, batch_features, batch_labels)\n",
    "        print('Epoch {:>2}, CIFAR-10 Batch {}:  '.format(epoch + 1, batch_i), end='')\n",
    "        print_stats(sess, batch_features, batch_labels, cost, accuracy)"
   ]
  },
  {
   "cell_type": "markdown",
   "metadata": {
    "deletable": true,
    "editable": true
   },
   "source": [
    "### Fully Train the Model\n",
    "Now that you got a good accuracy with a single CIFAR-10 batch, try it with all five batches."
   ]
  },
  {
   "cell_type": "code",
   "execution_count": 29,
   "metadata": {
    "collapsed": false,
    "deletable": true,
    "editable": true
   },
   "outputs": [
    {
     "name": "stdout",
     "output_type": "stream",
     "text": [
      "Training...\n",
      "Epoch  1, CIFAR-10 Batch 1:  Loss:     2.2699 Validation Accuracy: 0.146000\n",
      "Epoch  1, CIFAR-10 Batch 2:  Loss:     2.2338 Validation Accuracy: 0.200200\n",
      "Epoch  1, CIFAR-10 Batch 3:  Loss:     2.1144 Validation Accuracy: 0.256800\n",
      "Epoch  1, CIFAR-10 Batch 4:  Loss:     2.0092 Validation Accuracy: 0.253200\n",
      "Epoch  1, CIFAR-10 Batch 5:  Loss:     2.0281 Validation Accuracy: 0.286800\n",
      "Epoch  2, CIFAR-10 Batch 1:  Loss:     2.0130 Validation Accuracy: 0.304800\n",
      "Epoch  2, CIFAR-10 Batch 2:  Loss:     1.9109 Validation Accuracy: 0.324200\n",
      "Epoch  2, CIFAR-10 Batch 3:  Loss:     1.8678 Validation Accuracy: 0.298800\n",
      "Epoch  2, CIFAR-10 Batch 4:  Loss:     1.8138 Validation Accuracy: 0.316800\n",
      "Epoch  2, CIFAR-10 Batch 5:  Loss:     1.8429 Validation Accuracy: 0.340800\n",
      "Epoch  3, CIFAR-10 Batch 1:  Loss:     1.8600 Validation Accuracy: 0.381400\n",
      "Epoch  3, CIFAR-10 Batch 2:  Loss:     1.7712 Validation Accuracy: 0.391000\n",
      "Epoch  3, CIFAR-10 Batch 3:  Loss:     1.7149 Validation Accuracy: 0.401200\n",
      "Epoch  3, CIFAR-10 Batch 4:  Loss:     1.6836 Validation Accuracy: 0.407600\n",
      "Epoch  3, CIFAR-10 Batch 5:  Loss:     1.7497 Validation Accuracy: 0.408800\n",
      "Epoch  4, CIFAR-10 Batch 1:  Loss:     1.7442 Validation Accuracy: 0.451000\n",
      "Epoch  4, CIFAR-10 Batch 2:  Loss:     1.6570 Validation Accuracy: 0.418000\n",
      "Epoch  4, CIFAR-10 Batch 3:  Loss:     1.6021 Validation Accuracy: 0.418600\n",
      "Epoch  4, CIFAR-10 Batch 4:  Loss:     1.6153 Validation Accuracy: 0.446800\n",
      "Epoch  4, CIFAR-10 Batch 5:  Loss:     1.6531 Validation Accuracy: 0.434800\n",
      "Epoch  5, CIFAR-10 Batch 1:  Loss:     1.6614 Validation Accuracy: 0.453800\n",
      "Epoch  5, CIFAR-10 Batch 2:  Loss:     1.5469 Validation Accuracy: 0.417000\n",
      "Epoch  5, CIFAR-10 Batch 3:  Loss:     1.5000 Validation Accuracy: 0.440400\n",
      "Epoch  5, CIFAR-10 Batch 4:  Loss:     1.5369 Validation Accuracy: 0.450800\n",
      "Epoch  5, CIFAR-10 Batch 5:  Loss:     1.5166 Validation Accuracy: 0.476800\n",
      "Epoch  6, CIFAR-10 Batch 1:  Loss:     1.5646 Validation Accuracy: 0.488600\n",
      "Epoch  6, CIFAR-10 Batch 2:  Loss:     1.4573 Validation Accuracy: 0.462800\n",
      "Epoch  6, CIFAR-10 Batch 3:  Loss:     1.4042 Validation Accuracy: 0.469000\n",
      "Epoch  6, CIFAR-10 Batch 4:  Loss:     1.4449 Validation Accuracy: 0.482400\n",
      "Epoch  6, CIFAR-10 Batch 5:  Loss:     1.4370 Validation Accuracy: 0.485000\n",
      "Epoch  7, CIFAR-10 Batch 1:  Loss:     1.4942 Validation Accuracy: 0.468400\n",
      "Epoch  7, CIFAR-10 Batch 2:  Loss:     1.4062 Validation Accuracy: 0.471400\n",
      "Epoch  7, CIFAR-10 Batch 3:  Loss:     1.3371 Validation Accuracy: 0.481400\n",
      "Epoch  7, CIFAR-10 Batch 4:  Loss:     1.3884 Validation Accuracy: 0.492600\n",
      "Epoch  7, CIFAR-10 Batch 5:  Loss:     1.3347 Validation Accuracy: 0.508000\n",
      "Epoch  8, CIFAR-10 Batch 1:  Loss:     1.4380 Validation Accuracy: 0.513000\n",
      "Epoch  8, CIFAR-10 Batch 2:  Loss:     1.3291 Validation Accuracy: 0.495000\n",
      "Epoch  8, CIFAR-10 Batch 3:  Loss:     1.2866 Validation Accuracy: 0.505200\n",
      "Epoch  8, CIFAR-10 Batch 4:  Loss:     1.3351 Validation Accuracy: 0.513000\n",
      "Epoch  8, CIFAR-10 Batch 5:  Loss:     1.2855 Validation Accuracy: 0.506000\n",
      "Epoch  9, CIFAR-10 Batch 1:  Loss:     1.3823 Validation Accuracy: 0.515400\n",
      "Epoch  9, CIFAR-10 Batch 2:  Loss:     1.2866 Validation Accuracy: 0.488800\n",
      "Epoch  9, CIFAR-10 Batch 3:  Loss:     1.2358 Validation Accuracy: 0.511800\n",
      "Epoch  9, CIFAR-10 Batch 4:  Loss:     1.3174 Validation Accuracy: 0.509000\n",
      "Epoch  9, CIFAR-10 Batch 5:  Loss:     1.2515 Validation Accuracy: 0.513600\n",
      "Epoch 10, CIFAR-10 Batch 1:  Loss:     1.3566 Validation Accuracy: 0.521400\n",
      "Epoch 10, CIFAR-10 Batch 2:  Loss:     1.2605 Validation Accuracy: 0.509800\n",
      "Epoch 10, CIFAR-10 Batch 3:  Loss:     1.2118 Validation Accuracy: 0.509200\n",
      "Epoch 10, CIFAR-10 Batch 4:  Loss:     1.2699 Validation Accuracy: 0.515200\n",
      "Epoch 10, CIFAR-10 Batch 5:  Loss:     1.1921 Validation Accuracy: 0.526600\n",
      "Epoch 11, CIFAR-10 Batch 1:  Loss:     1.3164 Validation Accuracy: 0.526200\n",
      "Epoch 11, CIFAR-10 Batch 2:  Loss:     1.2177 Validation Accuracy: 0.518000\n",
      "Epoch 11, CIFAR-10 Batch 3:  Loss:     1.1692 Validation Accuracy: 0.525000\n",
      "Epoch 11, CIFAR-10 Batch 4:  Loss:     1.2414 Validation Accuracy: 0.524800\n",
      "Epoch 11, CIFAR-10 Batch 5:  Loss:     1.1815 Validation Accuracy: 0.533600\n",
      "Epoch 12, CIFAR-10 Batch 1:  Loss:     1.2936 Validation Accuracy: 0.524800\n",
      "Epoch 12, CIFAR-10 Batch 2:  Loss:     1.1802 Validation Accuracy: 0.519600\n",
      "Epoch 12, CIFAR-10 Batch 3:  Loss:     1.1430 Validation Accuracy: 0.533400\n",
      "Epoch 12, CIFAR-10 Batch 4:  Loss:     1.2112 Validation Accuracy: 0.531200\n",
      "Epoch 12, CIFAR-10 Batch 5:  Loss:     1.1780 Validation Accuracy: 0.529800\n",
      "Epoch 13, CIFAR-10 Batch 1:  Loss:     1.2977 Validation Accuracy: 0.531200\n",
      "Epoch 13, CIFAR-10 Batch 2:  Loss:     1.1586 Validation Accuracy: 0.525800\n",
      "Epoch 13, CIFAR-10 Batch 3:  Loss:     1.1475 Validation Accuracy: 0.537800\n",
      "Epoch 13, CIFAR-10 Batch 4:  Loss:     1.1634 Validation Accuracy: 0.533200\n",
      "Epoch 13, CIFAR-10 Batch 5:  Loss:     1.1331 Validation Accuracy: 0.533600\n",
      "Epoch 14, CIFAR-10 Batch 1:  Loss:     1.2596 Validation Accuracy: 0.531800\n",
      "Epoch 14, CIFAR-10 Batch 2:  Loss:     1.1370 Validation Accuracy: 0.537000\n",
      "Epoch 14, CIFAR-10 Batch 3:  Loss:     1.1648 Validation Accuracy: 0.528400\n",
      "Epoch 14, CIFAR-10 Batch 4:  Loss:     1.1928 Validation Accuracy: 0.513800\n",
      "Epoch 14, CIFAR-10 Batch 5:  Loss:     1.1568 Validation Accuracy: 0.538800\n",
      "Epoch 15, CIFAR-10 Batch 1:  Loss:     1.2215 Validation Accuracy: 0.534800\n",
      "Epoch 15, CIFAR-10 Batch 2:  Loss:     1.1191 Validation Accuracy: 0.538800\n",
      "Epoch 15, CIFAR-10 Batch 3:  Loss:     1.1050 Validation Accuracy: 0.527800\n",
      "Epoch 15, CIFAR-10 Batch 4:  Loss:     1.1524 Validation Accuracy: 0.532600\n",
      "Epoch 15, CIFAR-10 Batch 5:  Loss:     1.1181 Validation Accuracy: 0.540400\n",
      "Epoch 16, CIFAR-10 Batch 1:  Loss:     1.2303 Validation Accuracy: 0.541600\n",
      "Epoch 16, CIFAR-10 Batch 2:  Loss:     1.1100 Validation Accuracy: 0.536400\n",
      "Epoch 16, CIFAR-10 Batch 3:  Loss:     1.0699 Validation Accuracy: 0.544400\n",
      "Epoch 16, CIFAR-10 Batch 4:  Loss:     1.1335 Validation Accuracy: 0.535800\n",
      "Epoch 16, CIFAR-10 Batch 5:  Loss:     1.0871 Validation Accuracy: 0.546600\n",
      "Epoch 17, CIFAR-10 Batch 1:  Loss:     1.1899 Validation Accuracy: 0.536000\n",
      "Epoch 17, CIFAR-10 Batch 2:  Loss:     1.1235 Validation Accuracy: 0.525600\n",
      "Epoch 17, CIFAR-10 Batch 3:  Loss:     1.0836 Validation Accuracy: 0.547600\n",
      "Epoch 17, CIFAR-10 Batch 4:  Loss:     1.1396 Validation Accuracy: 0.533000\n",
      "Epoch 17, CIFAR-10 Batch 5:  Loss:     1.1211 Validation Accuracy: 0.544200\n",
      "Epoch 18, CIFAR-10 Batch 1:  Loss:     1.1717 Validation Accuracy: 0.547000\n",
      "Epoch 18, CIFAR-10 Batch 2:  Loss:     1.0965 Validation Accuracy: 0.530000\n",
      "Epoch 18, CIFAR-10 Batch 3:  Loss:     1.0596 Validation Accuracy: 0.539400\n",
      "Epoch 18, CIFAR-10 Batch 4:  Loss:     1.1071 Validation Accuracy: 0.542200\n",
      "Epoch 18, CIFAR-10 Batch 5:  Loss:     1.0907 Validation Accuracy: 0.543200\n",
      "Epoch 19, CIFAR-10 Batch 1:  Loss:     1.1562 Validation Accuracy: 0.538800\n",
      "Epoch 19, CIFAR-10 Batch 2:  Loss:     1.0885 Validation Accuracy: 0.544600\n",
      "Epoch 19, CIFAR-10 Batch 3:  Loss:     1.0664 Validation Accuracy: 0.545400\n",
      "Epoch 19, CIFAR-10 Batch 4:  Loss:     1.1100 Validation Accuracy: 0.534200\n",
      "Epoch 19, CIFAR-10 Batch 5:  Loss:     1.0760 Validation Accuracy: 0.543200\n",
      "Epoch 20, CIFAR-10 Batch 1:  Loss:     1.1789 Validation Accuracy: 0.537400\n",
      "Epoch 20, CIFAR-10 Batch 2:  Loss:     1.0494 Validation Accuracy: 0.536000\n",
      "Epoch 20, CIFAR-10 Batch 3:  Loss:     1.0335 Validation Accuracy: 0.555000\n",
      "Epoch 20, CIFAR-10 Batch 4:  Loss:     1.0635 Validation Accuracy: 0.547400\n",
      "Epoch 20, CIFAR-10 Batch 5:  Loss:     1.0333 Validation Accuracy: 0.550000\n",
      "Epoch 21, CIFAR-10 Batch 1:  Loss:     1.1499 Validation Accuracy: 0.544400\n",
      "Epoch 21, CIFAR-10 Batch 2:  Loss:     1.0651 Validation Accuracy: 0.518600\n",
      "Epoch 21, CIFAR-10 Batch 3:  Loss:     1.0064 Validation Accuracy: 0.545200\n",
      "Epoch 21, CIFAR-10 Batch 4:  Loss:     1.0726 Validation Accuracy: 0.538000\n",
      "Epoch 21, CIFAR-10 Batch 5:  Loss:     1.0586 Validation Accuracy: 0.538800\n",
      "Epoch 22, CIFAR-10 Batch 1:  Loss:     1.1597 Validation Accuracy: 0.540600\n",
      "Epoch 22, CIFAR-10 Batch 2:  Loss:     1.0337 Validation Accuracy: 0.538400\n",
      "Epoch 22, CIFAR-10 Batch 3:  Loss:     1.0186 Validation Accuracy: 0.543200\n",
      "Epoch 22, CIFAR-10 Batch 4:  Loss:     1.0717 Validation Accuracy: 0.540600\n",
      "Epoch 22, CIFAR-10 Batch 5:  Loss:     0.9864 Validation Accuracy: 0.542800\n",
      "Epoch 23, CIFAR-10 Batch 1:  Loss:     1.1357 Validation Accuracy: 0.545000\n",
      "Epoch 23, CIFAR-10 Batch 2:  Loss:     1.0392 Validation Accuracy: 0.518000\n",
      "Epoch 23, CIFAR-10 Batch 3:  Loss:     0.9967 Validation Accuracy: 0.543800\n",
      "Epoch 23, CIFAR-10 Batch 4:  Loss:     1.0919 Validation Accuracy: 0.537600\n",
      "Epoch 23, CIFAR-10 Batch 5:  Loss:     1.0233 Validation Accuracy: 0.549200\n",
      "Epoch 24, CIFAR-10 Batch 1:  Loss:     1.1033 Validation Accuracy: 0.547200\n",
      "Epoch 24, CIFAR-10 Batch 2:  Loss:     1.0443 Validation Accuracy: 0.522000\n",
      "Epoch 24, CIFAR-10 Batch 3:  Loss:     0.9907 Validation Accuracy: 0.544800\n",
      "Epoch 24, CIFAR-10 Batch 4:  Loss:     1.0555 Validation Accuracy: 0.537000\n",
      "Epoch 24, CIFAR-10 Batch 5:  Loss:     0.9744 Validation Accuracy: 0.550400\n",
      "Epoch 25, CIFAR-10 Batch 1:  Loss:     1.0984 Validation Accuracy: 0.546000\n",
      "Epoch 25, CIFAR-10 Batch 2:  Loss:     1.0472 Validation Accuracy: 0.511200\n",
      "Epoch 25, CIFAR-10 Batch 3:  Loss:     0.9804 Validation Accuracy: 0.550000\n",
      "Epoch 25, CIFAR-10 Batch 4:  Loss:     1.0257 Validation Accuracy: 0.541400\n",
      "Epoch 25, CIFAR-10 Batch 5:  Loss:     0.9528 Validation Accuracy: 0.549200\n",
      "Epoch 26, CIFAR-10 Batch 1:  Loss:     1.0647 Validation Accuracy: 0.551000\n",
      "Epoch 26, CIFAR-10 Batch 2:  Loss:     0.9915 Validation Accuracy: 0.532000\n",
      "Epoch 26, CIFAR-10 Batch 3:  Loss:     0.9464 Validation Accuracy: 0.551600\n",
      "Epoch 26, CIFAR-10 Batch 4:  Loss:     1.0394 Validation Accuracy: 0.545600\n",
      "Epoch 26, CIFAR-10 Batch 5:  Loss:     0.9359 Validation Accuracy: 0.549800\n",
      "Epoch 27, CIFAR-10 Batch 1:  Loss:     1.0888 Validation Accuracy: 0.547400\n",
      "Epoch 27, CIFAR-10 Batch 2:  Loss:     0.9893 Validation Accuracy: 0.525200\n",
      "Epoch 27, CIFAR-10 Batch 3:  Loss:     0.9531 Validation Accuracy: 0.553400\n",
      "Epoch 27, CIFAR-10 Batch 4:  Loss:     1.0152 Validation Accuracy: 0.549200\n",
      "Epoch 27, CIFAR-10 Batch 5:  Loss:     0.9279 Validation Accuracy: 0.556600\n",
      "Epoch 28, CIFAR-10 Batch 1:  Loss:     1.0780 Validation Accuracy: 0.537400\n",
      "Epoch 28, CIFAR-10 Batch 2:  Loss:     0.9803 Validation Accuracy: 0.546400\n",
      "Epoch 28, CIFAR-10 Batch 3:  Loss:     0.9535 Validation Accuracy: 0.547800\n",
      "Epoch 28, CIFAR-10 Batch 4:  Loss:     0.9981 Validation Accuracy: 0.549000\n",
      "Epoch 28, CIFAR-10 Batch 5:  Loss:     0.9274 Validation Accuracy: 0.549800\n",
      "Epoch 29, CIFAR-10 Batch 1:  Loss:     1.0660 Validation Accuracy: 0.554200\n",
      "Epoch 29, CIFAR-10 Batch 2:  Loss:     0.9654 Validation Accuracy: 0.543600\n",
      "Epoch 29, CIFAR-10 Batch 3:  Loss:     0.9533 Validation Accuracy: 0.557800\n",
      "Epoch 29, CIFAR-10 Batch 4:  Loss:     0.9919 Validation Accuracy: 0.548200\n",
      "Epoch 29, CIFAR-10 Batch 5:  Loss:     0.9294 Validation Accuracy: 0.565000\n",
      "Epoch 30, CIFAR-10 Batch 1:  Loss:     1.0658 Validation Accuracy: 0.548600\n",
      "Epoch 30, CIFAR-10 Batch 2:  Loss:     0.9404 Validation Accuracy: 0.544000\n",
      "Epoch 30, CIFAR-10 Batch 3:  Loss:     0.9703 Validation Accuracy: 0.544200\n",
      "Epoch 30, CIFAR-10 Batch 4:  Loss:     0.9878 Validation Accuracy: 0.549800\n",
      "Epoch 30, CIFAR-10 Batch 5:  Loss:     0.9072 Validation Accuracy: 0.559000\n",
      "Epoch 31, CIFAR-10 Batch 1:  Loss:     1.0725 Validation Accuracy: 0.556800\n",
      "Epoch 31, CIFAR-10 Batch 2:  Loss:     0.9268 Validation Accuracy: 0.552000\n",
      "Epoch 31, CIFAR-10 Batch 3:  Loss:     0.9276 Validation Accuracy: 0.552200\n",
      "Epoch 31, CIFAR-10 Batch 4:  Loss:     0.9589 Validation Accuracy: 0.550800\n",
      "Epoch 31, CIFAR-10 Batch 5:  Loss:     0.9037 Validation Accuracy: 0.560000\n",
      "Epoch 32, CIFAR-10 Batch 1:  Loss:     1.0416 Validation Accuracy: 0.555200\n",
      "Epoch 32, CIFAR-10 Batch 2:  Loss:     0.9078 Validation Accuracy: 0.555800\n",
      "Epoch 32, CIFAR-10 Batch 3:  Loss:     0.9206 Validation Accuracy: 0.546800\n",
      "Epoch 32, CIFAR-10 Batch 4:  Loss:     0.9597 Validation Accuracy: 0.551000\n",
      "Epoch 32, CIFAR-10 Batch 5:  Loss:     0.8944 Validation Accuracy: 0.557000\n",
      "Epoch 33, CIFAR-10 Batch 1:  Loss:     1.0278 Validation Accuracy: 0.561400\n",
      "Epoch 33, CIFAR-10 Batch 2:  Loss:     0.9123 Validation Accuracy: 0.558400\n",
      "Epoch 33, CIFAR-10 Batch 3:  Loss:     0.9111 Validation Accuracy: 0.557000\n",
      "Epoch 33, CIFAR-10 Batch 4:  Loss:     0.9671 Validation Accuracy: 0.551800\n",
      "Epoch 33, CIFAR-10 Batch 5:  Loss:     0.8766 Validation Accuracy: 0.560200\n",
      "Epoch 34, CIFAR-10 Batch 1:  Loss:     1.0533 Validation Accuracy: 0.560200\n",
      "Epoch 34, CIFAR-10 Batch 2:  Loss:     0.9104 Validation Accuracy: 0.545200\n",
      "Epoch 34, CIFAR-10 Batch 3:  Loss:     0.9415 Validation Accuracy: 0.544600\n",
      "Epoch 34, CIFAR-10 Batch 4:  Loss:     0.9543 Validation Accuracy: 0.546600\n",
      "Epoch 34, CIFAR-10 Batch 5:  Loss:     0.8967 Validation Accuracy: 0.550600\n",
      "Epoch 35, CIFAR-10 Batch 1:  Loss:     1.0498 Validation Accuracy: 0.543600\n",
      "Epoch 35, CIFAR-10 Batch 2:  Loss:     0.8937 Validation Accuracy: 0.560000\n",
      "Epoch 35, CIFAR-10 Batch 3:  Loss:     0.8847 Validation Accuracy: 0.564000\n",
      "Epoch 35, CIFAR-10 Batch 4:  Loss:     0.9625 Validation Accuracy: 0.549600\n",
      "Epoch 35, CIFAR-10 Batch 5:  Loss:     0.8846 Validation Accuracy: 0.550600\n",
      "Epoch 36, CIFAR-10 Batch 1:  Loss:     1.0127 Validation Accuracy: 0.565600\n",
      "Epoch 36, CIFAR-10 Batch 2:  Loss:     0.8820 Validation Accuracy: 0.560400\n",
      "Epoch 36, CIFAR-10 Batch 3:  Loss:     0.8827 Validation Accuracy: 0.565400\n",
      "Epoch 36, CIFAR-10 Batch 4:  Loss:     0.9576 Validation Accuracy: 0.545800\n",
      "Epoch 36, CIFAR-10 Batch 5:  Loss:     0.8700 Validation Accuracy: 0.547000\n",
      "Epoch 37, CIFAR-10 Batch 1:  Loss:     1.0294 Validation Accuracy: 0.555000\n",
      "Epoch 37, CIFAR-10 Batch 2:  Loss:     0.8754 Validation Accuracy: 0.566000\n",
      "Epoch 37, CIFAR-10 Batch 3:  Loss:     0.8593 Validation Accuracy: 0.565400\n",
      "Epoch 37, CIFAR-10 Batch 4:  Loss:     0.9491 Validation Accuracy: 0.551000\n",
      "Epoch 37, CIFAR-10 Batch 5:  Loss:     0.8896 Validation Accuracy: 0.553000\n",
      "Epoch 38, CIFAR-10 Batch 1:  Loss:     1.0110 Validation Accuracy: 0.557600\n",
      "Epoch 38, CIFAR-10 Batch 2:  Loss:     0.8522 Validation Accuracy: 0.563200\n",
      "Epoch 38, CIFAR-10 Batch 3:  Loss:     0.8778 Validation Accuracy: 0.562200\n",
      "Epoch 38, CIFAR-10 Batch 4:  Loss:     0.9382 Validation Accuracy: 0.554800\n",
      "Epoch 38, CIFAR-10 Batch 5:  Loss:     0.8408 Validation Accuracy: 0.555800\n",
      "Epoch 39, CIFAR-10 Batch 1:  Loss:     1.0231 Validation Accuracy: 0.553600\n",
      "Epoch 39, CIFAR-10 Batch 2:  Loss:     0.8542 Validation Accuracy: 0.563600\n",
      "Epoch 39, CIFAR-10 Batch 3:  Loss:     0.8879 Validation Accuracy: 0.559200\n",
      "Epoch 39, CIFAR-10 Batch 4:  Loss:     0.9176 Validation Accuracy: 0.559200\n",
      "Epoch 39, CIFAR-10 Batch 5:  Loss:     0.8426 Validation Accuracy: 0.555800\n",
      "Epoch 40, CIFAR-10 Batch 1:  Loss:     0.9990 Validation Accuracy: 0.560600\n",
      "Epoch 40, CIFAR-10 Batch 2:  Loss:     0.8520 Validation Accuracy: 0.554000\n",
      "Epoch 40, CIFAR-10 Batch 3:  Loss:     0.8884 Validation Accuracy: 0.556000\n",
      "Epoch 40, CIFAR-10 Batch 4:  Loss:     0.9180 Validation Accuracy: 0.552600\n",
      "Epoch 40, CIFAR-10 Batch 5:  Loss:     0.8425 Validation Accuracy: 0.556200\n",
      "Epoch 41, CIFAR-10 Batch 1:  Loss:     1.0137 Validation Accuracy: 0.558800\n",
      "Epoch 41, CIFAR-10 Batch 2:  Loss:     0.8293 Validation Accuracy: 0.562800\n",
      "Epoch 41, CIFAR-10 Batch 3:  Loss:     0.8777 Validation Accuracy: 0.561600\n",
      "Epoch 41, CIFAR-10 Batch 4:  Loss:     0.9262 Validation Accuracy: 0.547200\n",
      "Epoch 41, CIFAR-10 Batch 5:  Loss:     0.8273 Validation Accuracy: 0.561000\n",
      "Epoch 42, CIFAR-10 Batch 1:  Loss:     0.9836 Validation Accuracy: 0.561800\n",
      "Epoch 42, CIFAR-10 Batch 2:  Loss:     0.8415 Validation Accuracy: 0.551200\n",
      "Epoch 42, CIFAR-10 Batch 3:  Loss:     0.8364 Validation Accuracy: 0.562600\n",
      "Epoch 42, CIFAR-10 Batch 4:  Loss:     0.9179 Validation Accuracy: 0.548400\n",
      "Epoch 42, CIFAR-10 Batch 5:  Loss:     0.8291 Validation Accuracy: 0.550000\n",
      "Epoch 43, CIFAR-10 Batch 1:  Loss:     0.9714 Validation Accuracy: 0.558800\n",
      "Epoch 43, CIFAR-10 Batch 2:  Loss:     0.8344 Validation Accuracy: 0.552800\n",
      "Epoch 43, CIFAR-10 Batch 3:  Loss:     0.8559 Validation Accuracy: 0.561200\n",
      "Epoch 43, CIFAR-10 Batch 4:  Loss:     0.9051 Validation Accuracy: 0.553000\n",
      "Epoch 43, CIFAR-10 Batch 5:  Loss:     0.8170 Validation Accuracy: 0.557000\n",
      "Epoch 44, CIFAR-10 Batch 1:  Loss:     0.9990 Validation Accuracy: 0.563600\n",
      "Epoch 44, CIFAR-10 Batch 2:  Loss:     0.8191 Validation Accuracy: 0.555600\n",
      "Epoch 44, CIFAR-10 Batch 3:  Loss:     0.8387 Validation Accuracy: 0.556000\n",
      "Epoch 44, CIFAR-10 Batch 4:  Loss:     0.8814 Validation Accuracy: 0.552200\n",
      "Epoch 44, CIFAR-10 Batch 5:  Loss:     0.8218 Validation Accuracy: 0.555800\n",
      "Epoch 45, CIFAR-10 Batch 1:  Loss:     0.9748 Validation Accuracy: 0.557000\n",
      "Epoch 45, CIFAR-10 Batch 2:  Loss:     0.8898 Validation Accuracy: 0.535600\n",
      "Epoch 45, CIFAR-10 Batch 3:  Loss:     0.8073 Validation Accuracy: 0.555000\n",
      "Epoch 45, CIFAR-10 Batch 4:  Loss:     0.9077 Validation Accuracy: 0.554200\n",
      "Epoch 45, CIFAR-10 Batch 5:  Loss:     0.8248 Validation Accuracy: 0.550200\n",
      "Epoch 46, CIFAR-10 Batch 1:  Loss:     0.9895 Validation Accuracy: 0.550800\n",
      "Epoch 46, CIFAR-10 Batch 2:  Loss:     0.8468 Validation Accuracy: 0.539200\n",
      "Epoch 46, CIFAR-10 Batch 3:  Loss:     0.8474 Validation Accuracy: 0.554800\n",
      "Epoch 46, CIFAR-10 Batch 4:  Loss:     0.8877 Validation Accuracy: 0.556000\n",
      "Epoch 46, CIFAR-10 Batch 5:  Loss:     0.8412 Validation Accuracy: 0.552000\n",
      "Epoch 47, CIFAR-10 Batch 1:  Loss:     1.0166 Validation Accuracy: 0.545000\n",
      "Epoch 47, CIFAR-10 Batch 2:  Loss:     0.8061 Validation Accuracy: 0.549800\n",
      "Epoch 47, CIFAR-10 Batch 3:  Loss:     0.8118 Validation Accuracy: 0.557400\n",
      "Epoch 47, CIFAR-10 Batch 4:  Loss:     0.9642 Validation Accuracy: 0.531000\n",
      "Epoch 47, CIFAR-10 Batch 5:  Loss:     0.8370 Validation Accuracy: 0.545200\n",
      "Epoch 48, CIFAR-10 Batch 1:  Loss:     1.0277 Validation Accuracy: 0.545800\n",
      "Epoch 48, CIFAR-10 Batch 2:  Loss:     0.8301 Validation Accuracy: 0.551000\n",
      "Epoch 48, CIFAR-10 Batch 3:  Loss:     0.8406 Validation Accuracy: 0.549200\n",
      "Epoch 48, CIFAR-10 Batch 4:  Loss:     0.9186 Validation Accuracy: 0.549800\n",
      "Epoch 48, CIFAR-10 Batch 5:  Loss:     0.7994 Validation Accuracy: 0.553400\n",
      "Epoch 49, CIFAR-10 Batch 1:  Loss:     1.0120 Validation Accuracy: 0.553400\n",
      "Epoch 49, CIFAR-10 Batch 2:  Loss:     0.8907 Validation Accuracy: 0.532800\n",
      "Epoch 49, CIFAR-10 Batch 3:  Loss:     0.7807 Validation Accuracy: 0.560800\n",
      "Epoch 49, CIFAR-10 Batch 4:  Loss:     0.8851 Validation Accuracy: 0.549200\n",
      "Epoch 49, CIFAR-10 Batch 5:  Loss:     0.8258 Validation Accuracy: 0.554400\n",
      "Epoch 50, CIFAR-10 Batch 1:  Loss:     1.0270 Validation Accuracy: 0.538800\n",
      "Epoch 50, CIFAR-10 Batch 2:  Loss:     0.8653 Validation Accuracy: 0.545200\n",
      "Epoch 50, CIFAR-10 Batch 3:  Loss:     0.7629 Validation Accuracy: 0.568000\n",
      "Epoch 50, CIFAR-10 Batch 4:  Loss:     0.9548 Validation Accuracy: 0.538400\n",
      "Epoch 50, CIFAR-10 Batch 5:  Loss:     0.8582 Validation Accuracy: 0.552000\n",
      "Epoch 51, CIFAR-10 Batch 1:  Loss:     0.9635 Validation Accuracy: 0.555200\n",
      "Epoch 51, CIFAR-10 Batch 2:  Loss:     0.8508 Validation Accuracy: 0.555000\n",
      "Epoch 51, CIFAR-10 Batch 3:  Loss:     0.7816 Validation Accuracy: 0.560200\n",
      "Epoch 51, CIFAR-10 Batch 4:  Loss:     0.8638 Validation Accuracy: 0.558400\n",
      "Epoch 51, CIFAR-10 Batch 5:  Loss:     0.7868 Validation Accuracy: 0.556800\n",
      "Epoch 52, CIFAR-10 Batch 1:  Loss:     0.9961 Validation Accuracy: 0.542800\n",
      "Epoch 52, CIFAR-10 Batch 2:  Loss:     0.7937 Validation Accuracy: 0.560600\n",
      "Epoch 52, CIFAR-10 Batch 3:  Loss:     0.7906 Validation Accuracy: 0.557800\n",
      "Epoch 52, CIFAR-10 Batch 4:  Loss:     0.8641 Validation Accuracy: 0.557400\n",
      "Epoch 52, CIFAR-10 Batch 5:  Loss:     0.8066 Validation Accuracy: 0.554200\n",
      "Epoch 53, CIFAR-10 Batch 1:  Loss:     0.9659 Validation Accuracy: 0.556400\n",
      "Epoch 53, CIFAR-10 Batch 2:  Loss:     0.8279 Validation Accuracy: 0.551200\n",
      "Epoch 53, CIFAR-10 Batch 3:  Loss:     0.7493 Validation Accuracy: 0.566400\n",
      "Epoch 53, CIFAR-10 Batch 4:  Loss:     0.8932 Validation Accuracy: 0.551000\n",
      "Epoch 53, CIFAR-10 Batch 5:  Loss:     0.7869 Validation Accuracy: 0.559400\n",
      "Epoch 54, CIFAR-10 Batch 1:  Loss:     1.0191 Validation Accuracy: 0.538000\n",
      "Epoch 54, CIFAR-10 Batch 2:  Loss:     0.8965 Validation Accuracy: 0.532200\n",
      "Epoch 54, CIFAR-10 Batch 3:  Loss:     0.7786 Validation Accuracy: 0.553200\n",
      "Epoch 54, CIFAR-10 Batch 4:  Loss:     0.8561 Validation Accuracy: 0.559800\n",
      "Epoch 54, CIFAR-10 Batch 5:  Loss:     0.7889 Validation Accuracy: 0.562200\n",
      "Epoch 55, CIFAR-10 Batch 1:  Loss:     0.9886 Validation Accuracy: 0.536200\n",
      "Epoch 55, CIFAR-10 Batch 2:  Loss:     0.7933 Validation Accuracy: 0.559800\n",
      "Epoch 55, CIFAR-10 Batch 3:  Loss:     0.8072 Validation Accuracy: 0.549800\n",
      "Epoch 55, CIFAR-10 Batch 4:  Loss:     0.8526 Validation Accuracy: 0.556400\n",
      "Epoch 55, CIFAR-10 Batch 5:  Loss:     0.7642 Validation Accuracy: 0.564200\n",
      "Epoch 56, CIFAR-10 Batch 1:  Loss:     0.9265 Validation Accuracy: 0.565600\n",
      "Epoch 56, CIFAR-10 Batch 2:  Loss:     0.7662 Validation Accuracy: 0.561600\n",
      "Epoch 56, CIFAR-10 Batch 3:  Loss:     0.7821 Validation Accuracy: 0.554200\n",
      "Epoch 56, CIFAR-10 Batch 4:  Loss:     0.8658 Validation Accuracy: 0.552200\n",
      "Epoch 56, CIFAR-10 Batch 5:  Loss:     0.7855 Validation Accuracy: 0.564600\n",
      "Epoch 57, CIFAR-10 Batch 1:  Loss:     0.9613 Validation Accuracy: 0.551600\n",
      "Epoch 57, CIFAR-10 Batch 2:  Loss:     0.7887 Validation Accuracy: 0.554600\n",
      "Epoch 57, CIFAR-10 Batch 3:  Loss:     0.7631 Validation Accuracy: 0.555600\n",
      "Epoch 57, CIFAR-10 Batch 4:  Loss:     0.8688 Validation Accuracy: 0.554400\n",
      "Epoch 57, CIFAR-10 Batch 5:  Loss:     0.7548 Validation Accuracy: 0.561600\n",
      "Epoch 58, CIFAR-10 Batch 1:  Loss:     0.9283 Validation Accuracy: 0.564000\n",
      "Epoch 58, CIFAR-10 Batch 2:  Loss:     0.8518 Validation Accuracy: 0.541600\n",
      "Epoch 58, CIFAR-10 Batch 3:  Loss:     0.7739 Validation Accuracy: 0.560200\n",
      "Epoch 58, CIFAR-10 Batch 4:  Loss:     0.8583 Validation Accuracy: 0.560800\n",
      "Epoch 58, CIFAR-10 Batch 5:  Loss:     0.7797 Validation Accuracy: 0.558400\n",
      "Epoch 59, CIFAR-10 Batch 1:  Loss:     0.9491 Validation Accuracy: 0.555600\n",
      "Epoch 59, CIFAR-10 Batch 2:  Loss:     0.7461 Validation Accuracy: 0.566000\n",
      "Epoch 59, CIFAR-10 Batch 3:  Loss:     0.7654 Validation Accuracy: 0.564000\n",
      "Epoch 59, CIFAR-10 Batch 4:  Loss:     0.8268 Validation Accuracy: 0.565200\n",
      "Epoch 59, CIFAR-10 Batch 5:  Loss:     0.7653 Validation Accuracy: 0.560800\n",
      "Epoch 60, CIFAR-10 Batch 1:  Loss:     0.9553 Validation Accuracy: 0.554800\n",
      "Epoch 60, CIFAR-10 Batch 2:  Loss:     0.7601 Validation Accuracy: 0.559200\n",
      "Epoch 60, CIFAR-10 Batch 3:  Loss:     0.7901 Validation Accuracy: 0.553800\n",
      "Epoch 60, CIFAR-10 Batch 4:  Loss:     0.8750 Validation Accuracy: 0.551800\n",
      "Epoch 60, CIFAR-10 Batch 5:  Loss:     0.7803 Validation Accuracy: 0.562000\n",
      "Epoch 61, CIFAR-10 Batch 1:  Loss:     0.9448 Validation Accuracy: 0.557800\n",
      "Epoch 61, CIFAR-10 Batch 2:  Loss:     0.7696 Validation Accuracy: 0.560800\n",
      "Epoch 61, CIFAR-10 Batch 3:  Loss:     0.8362 Validation Accuracy: 0.549200\n",
      "Epoch 61, CIFAR-10 Batch 4:  Loss:     0.9161 Validation Accuracy: 0.541600\n",
      "Epoch 61, CIFAR-10 Batch 5:  Loss:     0.7621 Validation Accuracy: 0.561200\n",
      "Epoch 62, CIFAR-10 Batch 1:  Loss:     0.9702 Validation Accuracy: 0.548400\n",
      "Epoch 62, CIFAR-10 Batch 2:  Loss:     0.7200 Validation Accuracy: 0.565000\n",
      "Epoch 62, CIFAR-10 Batch 3:  Loss:     0.7814 Validation Accuracy: 0.553400\n",
      "Epoch 62, CIFAR-10 Batch 4:  Loss:     0.8281 Validation Accuracy: 0.563600\n",
      "Epoch 62, CIFAR-10 Batch 5:  Loss:     0.7604 Validation Accuracy: 0.568400\n",
      "Epoch 63, CIFAR-10 Batch 1:  Loss:     0.9381 Validation Accuracy: 0.562000\n",
      "Epoch 63, CIFAR-10 Batch 2:  Loss:     0.7723 Validation Accuracy: 0.555000\n",
      "Epoch 63, CIFAR-10 Batch 3:  Loss:     0.7747 Validation Accuracy: 0.554400\n",
      "Epoch 63, CIFAR-10 Batch 4:  Loss:     0.8540 Validation Accuracy: 0.554000\n",
      "Epoch 63, CIFAR-10 Batch 5:  Loss:     0.7379 Validation Accuracy: 0.564600\n",
      "Epoch 64, CIFAR-10 Batch 1:  Loss:     0.9469 Validation Accuracy: 0.553200\n",
      "Epoch 64, CIFAR-10 Batch 2:  Loss:     0.7601 Validation Accuracy: 0.561600\n",
      "Epoch 64, CIFAR-10 Batch 3:  Loss:     0.8161 Validation Accuracy: 0.543600\n",
      "Epoch 64, CIFAR-10 Batch 4:  Loss:     0.8581 Validation Accuracy: 0.559000\n",
      "Epoch 64, CIFAR-10 Batch 5:  Loss:     0.7547 Validation Accuracy: 0.569000\n",
      "Epoch 65, CIFAR-10 Batch 1:  Loss:     0.9220 Validation Accuracy: 0.553200\n",
      "Epoch 65, CIFAR-10 Batch 2:  Loss:     0.7979 Validation Accuracy: 0.549200\n",
      "Epoch 65, CIFAR-10 Batch 3:  Loss:     0.7795 Validation Accuracy: 0.564400\n",
      "Epoch 65, CIFAR-10 Batch 4:  Loss:     0.8645 Validation Accuracy: 0.552800\n",
      "Epoch 65, CIFAR-10 Batch 5:  Loss:     0.7720 Validation Accuracy: 0.556400\n",
      "Epoch 66, CIFAR-10 Batch 1:  Loss:     0.9200 Validation Accuracy: 0.563200\n",
      "Epoch 66, CIFAR-10 Batch 2:  Loss:     0.7924 Validation Accuracy: 0.543600\n",
      "Epoch 66, CIFAR-10 Batch 3:  Loss:     0.7758 Validation Accuracy: 0.562200\n",
      "Epoch 66, CIFAR-10 Batch 4:  Loss:     0.8828 Validation Accuracy: 0.558200\n",
      "Epoch 66, CIFAR-10 Batch 5:  Loss:     0.7293 Validation Accuracy: 0.569600\n",
      "Epoch 67, CIFAR-10 Batch 1:  Loss:     0.9589 Validation Accuracy: 0.548400\n",
      "Epoch 67, CIFAR-10 Batch 2:  Loss:     0.9028 Validation Accuracy: 0.494600\n",
      "Epoch 67, CIFAR-10 Batch 3:  Loss:     0.7981 Validation Accuracy: 0.558200\n",
      "Epoch 67, CIFAR-10 Batch 4:  Loss:     0.9261 Validation Accuracy: 0.545400\n",
      "Epoch 67, CIFAR-10 Batch 5:  Loss:     0.7916 Validation Accuracy: 0.550800\n",
      "Epoch 68, CIFAR-10 Batch 1:  Loss:     0.9729 Validation Accuracy: 0.551600\n",
      "Epoch 68, CIFAR-10 Batch 2:  Loss:     0.8290 Validation Accuracy: 0.537000\n",
      "Epoch 68, CIFAR-10 Batch 3:  Loss:     0.7479 Validation Accuracy: 0.560400\n",
      "Epoch 68, CIFAR-10 Batch 4:  Loss:     0.8624 Validation Accuracy: 0.558200\n",
      "Epoch 68, CIFAR-10 Batch 5:  Loss:     0.7766 Validation Accuracy: 0.552600\n",
      "Epoch 69, CIFAR-10 Batch 1:  Loss:     0.9167 Validation Accuracy: 0.561800\n",
      "Epoch 69, CIFAR-10 Batch 2:  Loss:     0.7746 Validation Accuracy: 0.535200\n",
      "Epoch 69, CIFAR-10 Batch 3:  Loss:     0.8230 Validation Accuracy: 0.553800\n",
      "Epoch 69, CIFAR-10 Batch 4:  Loss:     0.9394 Validation Accuracy: 0.546800\n",
      "Epoch 69, CIFAR-10 Batch 5:  Loss:     0.7585 Validation Accuracy: 0.553400\n",
      "Epoch 70, CIFAR-10 Batch 1:  Loss:     0.9229 Validation Accuracy: 0.552600\n",
      "Epoch 70, CIFAR-10 Batch 2:  Loss:     0.7473 Validation Accuracy: 0.553400\n",
      "Epoch 70, CIFAR-10 Batch 3:  Loss:     0.7830 Validation Accuracy: 0.554200\n",
      "Epoch 70, CIFAR-10 Batch 4:  Loss:     0.8677 Validation Accuracy: 0.554000\n",
      "Epoch 70, CIFAR-10 Batch 5:  Loss:     0.7391 Validation Accuracy: 0.555400\n",
      "Epoch 71, CIFAR-10 Batch 1:  Loss:     0.8876 Validation Accuracy: 0.567200\n",
      "Epoch 71, CIFAR-10 Batch 2:  Loss:     0.7305 Validation Accuracy: 0.545400\n",
      "Epoch 71, CIFAR-10 Batch 3:  Loss:     0.7387 Validation Accuracy: 0.559800\n",
      "Epoch 71, CIFAR-10 Batch 4:  Loss:     0.9270 Validation Accuracy: 0.541800\n",
      "Epoch 71, CIFAR-10 Batch 5:  Loss:     0.7393 Validation Accuracy: 0.553200\n",
      "Epoch 72, CIFAR-10 Batch 1:  Loss:     0.9243 Validation Accuracy: 0.553600\n",
      "Epoch 72, CIFAR-10 Batch 2:  Loss:     0.6884 Validation Accuracy: 0.555600\n",
      "Epoch 72, CIFAR-10 Batch 3:  Loss:     0.7367 Validation Accuracy: 0.562400\n",
      "Epoch 72, CIFAR-10 Batch 4:  Loss:     0.8690 Validation Accuracy: 0.550200\n",
      "Epoch 72, CIFAR-10 Batch 5:  Loss:     0.7110 Validation Accuracy: 0.565000\n",
      "Epoch 73, CIFAR-10 Batch 1:  Loss:     0.8747 Validation Accuracy: 0.563400\n",
      "Epoch 73, CIFAR-10 Batch 2:  Loss:     0.7407 Validation Accuracy: 0.530600\n",
      "Epoch 73, CIFAR-10 Batch 3:  Loss:     0.7293 Validation Accuracy: 0.561200\n",
      "Epoch 73, CIFAR-10 Batch 4:  Loss:     0.8223 Validation Accuracy: 0.564400\n",
      "Epoch 73, CIFAR-10 Batch 5:  Loss:     0.7368 Validation Accuracy: 0.551800\n",
      "Epoch 74, CIFAR-10 Batch 1:  Loss:     0.9078 Validation Accuracy: 0.556000\n",
      "Epoch 74, CIFAR-10 Batch 2:  Loss:     0.7242 Validation Accuracy: 0.536400\n",
      "Epoch 74, CIFAR-10 Batch 3:  Loss:     0.7012 Validation Accuracy: 0.559400\n",
      "Epoch 74, CIFAR-10 Batch 4:  Loss:     0.8324 Validation Accuracy: 0.566800\n",
      "Epoch 74, CIFAR-10 Batch 5:  Loss:     0.6949 Validation Accuracy: 0.565400\n",
      "Epoch 75, CIFAR-10 Batch 1:  Loss:     0.8848 Validation Accuracy: 0.561000\n",
      "Epoch 75, CIFAR-10 Batch 2:  Loss:     0.6820 Validation Accuracy: 0.545800\n",
      "Epoch 75, CIFAR-10 Batch 3:  Loss:     0.7475 Validation Accuracy: 0.562600\n",
      "Epoch 75, CIFAR-10 Batch 4:  Loss:     0.7944 Validation Accuracy: 0.560800\n",
      "Epoch 75, CIFAR-10 Batch 5:  Loss:     0.6892 Validation Accuracy: 0.559800\n",
      "Epoch 76, CIFAR-10 Batch 1:  Loss:     0.8770 Validation Accuracy: 0.558600\n",
      "Epoch 76, CIFAR-10 Batch 2:  Loss:     0.6741 Validation Accuracy: 0.549800\n",
      "Epoch 76, CIFAR-10 Batch 3:  Loss:     0.7096 Validation Accuracy: 0.557800\n",
      "Epoch 76, CIFAR-10 Batch 4:  Loss:     0.7958 Validation Accuracy: 0.566600\n",
      "Epoch 76, CIFAR-10 Batch 5:  Loss:     0.7068 Validation Accuracy: 0.560200\n",
      "Epoch 77, CIFAR-10 Batch 1:  Loss:     0.8782 Validation Accuracy: 0.551800\n",
      "Epoch 77, CIFAR-10 Batch 2:  Loss:     0.7067 Validation Accuracy: 0.538800\n",
      "Epoch 77, CIFAR-10 Batch 3:  Loss:     0.6779 Validation Accuracy: 0.554400\n",
      "Epoch 77, CIFAR-10 Batch 4:  Loss:     0.7867 Validation Accuracy: 0.560000\n",
      "Epoch 77, CIFAR-10 Batch 5:  Loss:     0.7104 Validation Accuracy: 0.551000\n",
      "Epoch 78, CIFAR-10 Batch 1:  Loss:     0.8519 Validation Accuracy: 0.552800\n",
      "Epoch 78, CIFAR-10 Batch 2:  Loss:     0.7060 Validation Accuracy: 0.534000\n",
      "Epoch 78, CIFAR-10 Batch 3:  Loss:     0.6757 Validation Accuracy: 0.565600\n",
      "Epoch 78, CIFAR-10 Batch 4:  Loss:     0.7495 Validation Accuracy: 0.562400\n",
      "Epoch 78, CIFAR-10 Batch 5:  Loss:     0.6729 Validation Accuracy: 0.562400\n",
      "Epoch 79, CIFAR-10 Batch 1:  Loss:     0.8539 Validation Accuracy: 0.557000\n",
      "Epoch 79, CIFAR-10 Batch 2:  Loss:     0.6851 Validation Accuracy: 0.541800\n",
      "Epoch 79, CIFAR-10 Batch 3:  Loss:     0.6909 Validation Accuracy: 0.563800\n",
      "Epoch 79, CIFAR-10 Batch 4:  Loss:     0.8198 Validation Accuracy: 0.558800\n",
      "Epoch 79, CIFAR-10 Batch 5:  Loss:     0.7187 Validation Accuracy: 0.555400\n",
      "Epoch 80, CIFAR-10 Batch 1:  Loss:     0.8389 Validation Accuracy: 0.558400\n",
      "Epoch 80, CIFAR-10 Batch 2:  Loss:     0.7482 Validation Accuracy: 0.525800\n",
      "Epoch 80, CIFAR-10 Batch 3:  Loss:     0.7210 Validation Accuracy: 0.555400\n",
      "Epoch 80, CIFAR-10 Batch 4:  Loss:     0.8263 Validation Accuracy: 0.546400\n",
      "Epoch 80, CIFAR-10 Batch 5:  Loss:     0.6925 Validation Accuracy: 0.566000\n",
      "Epoch 81, CIFAR-10 Batch 1:  Loss:     0.8218 Validation Accuracy: 0.562200\n",
      "Epoch 81, CIFAR-10 Batch 2:  Loss:     0.7563 Validation Accuracy: 0.523400\n",
      "Epoch 81, CIFAR-10 Batch 3:  Loss:     0.6949 Validation Accuracy: 0.559200\n",
      "Epoch 81, CIFAR-10 Batch 4:  Loss:     0.7600 Validation Accuracy: 0.560000\n",
      "Epoch 81, CIFAR-10 Batch 5:  Loss:     0.6928 Validation Accuracy: 0.566800\n",
      "Epoch 82, CIFAR-10 Batch 1:  Loss:     0.8382 Validation Accuracy: 0.562200\n",
      "Epoch 82, CIFAR-10 Batch 2:  Loss:     0.7424 Validation Accuracy: 0.523400\n",
      "Epoch 82, CIFAR-10 Batch 3:  Loss:     0.7103 Validation Accuracy: 0.557400\n",
      "Epoch 82, CIFAR-10 Batch 4:  Loss:     0.7808 Validation Accuracy: 0.555800\n",
      "Epoch 82, CIFAR-10 Batch 5:  Loss:     0.6870 Validation Accuracy: 0.560600\n",
      "Epoch 83, CIFAR-10 Batch 1:  Loss:     0.8074 Validation Accuracy: 0.561800\n",
      "Epoch 83, CIFAR-10 Batch 2:  Loss:     0.6831 Validation Accuracy: 0.548400\n",
      "Epoch 83, CIFAR-10 Batch 3:  Loss:     0.6625 Validation Accuracy: 0.565800\n",
      "Epoch 83, CIFAR-10 Batch 4:  Loss:     0.7555 Validation Accuracy: 0.561600\n",
      "Epoch 83, CIFAR-10 Batch 5:  Loss:     0.6840 Validation Accuracy: 0.560800\n",
      "Epoch 84, CIFAR-10 Batch 1:  Loss:     0.8393 Validation Accuracy: 0.556200\n",
      "Epoch 84, CIFAR-10 Batch 2:  Loss:     0.7946 Validation Accuracy: 0.513000\n",
      "Epoch 84, CIFAR-10 Batch 3:  Loss:     0.6655 Validation Accuracy: 0.566800\n",
      "Epoch 84, CIFAR-10 Batch 4:  Loss:     0.7891 Validation Accuracy: 0.557600\n",
      "Epoch 84, CIFAR-10 Batch 5:  Loss:     0.7515 Validation Accuracy: 0.538000\n",
      "Epoch 85, CIFAR-10 Batch 1:  Loss:     0.8327 Validation Accuracy: 0.559000\n",
      "Epoch 85, CIFAR-10 Batch 2:  Loss:     0.7240 Validation Accuracy: 0.528600\n",
      "Epoch 85, CIFAR-10 Batch 3:  Loss:     0.6904 Validation Accuracy: 0.558400\n",
      "Epoch 85, CIFAR-10 Batch 4:  Loss:     0.8051 Validation Accuracy: 0.551200\n",
      "Epoch 85, CIFAR-10 Batch 5:  Loss:     0.7188 Validation Accuracy: 0.542600\n",
      "Epoch 86, CIFAR-10 Batch 1:  Loss:     0.8437 Validation Accuracy: 0.558800\n",
      "Epoch 86, CIFAR-10 Batch 2:  Loss:     0.7261 Validation Accuracy: 0.535800\n",
      "Epoch 86, CIFAR-10 Batch 3:  Loss:     0.7884 Validation Accuracy: 0.542800\n",
      "Epoch 86, CIFAR-10 Batch 4:  Loss:     0.7834 Validation Accuracy: 0.550400\n",
      "Epoch 86, CIFAR-10 Batch 5:  Loss:     0.7444 Validation Accuracy: 0.548200\n",
      "Epoch 87, CIFAR-10 Batch 1:  Loss:     0.8712 Validation Accuracy: 0.557000\n",
      "Epoch 87, CIFAR-10 Batch 2:  Loss:     0.7283 Validation Accuracy: 0.539000\n",
      "Epoch 87, CIFAR-10 Batch 3:  Loss:     0.6944 Validation Accuracy: 0.550800\n",
      "Epoch 87, CIFAR-10 Batch 4:  Loss:     0.7781 Validation Accuracy: 0.549200\n",
      "Epoch 87, CIFAR-10 Batch 5:  Loss:     0.8124 Validation Accuracy: 0.543800\n",
      "Epoch 88, CIFAR-10 Batch 1:  Loss:     0.8718 Validation Accuracy: 0.555400\n",
      "Epoch 88, CIFAR-10 Batch 2:  Loss:     0.6683 Validation Accuracy: 0.562200\n",
      "Epoch 88, CIFAR-10 Batch 3:  Loss:     0.6831 Validation Accuracy: 0.553600\n",
      "Epoch 88, CIFAR-10 Batch 4:  Loss:     0.8015 Validation Accuracy: 0.553000\n",
      "Epoch 88, CIFAR-10 Batch 5:  Loss:     0.7249 Validation Accuracy: 0.557800\n",
      "Epoch 89, CIFAR-10 Batch 1:  Loss:     0.8782 Validation Accuracy: 0.566400\n",
      "Epoch 89, CIFAR-10 Batch 2:  Loss:     0.6750 Validation Accuracy: 0.562200\n",
      "Epoch 89, CIFAR-10 Batch 3:  Loss:     0.6829 Validation Accuracy: 0.554600\n",
      "Epoch 89, CIFAR-10 Batch 4:  Loss:     0.7837 Validation Accuracy: 0.550600\n",
      "Epoch 89, CIFAR-10 Batch 5:  Loss:     0.7632 Validation Accuracy: 0.549800\n",
      "Epoch 90, CIFAR-10 Batch 1:  Loss:     0.9149 Validation Accuracy: 0.557600\n",
      "Epoch 90, CIFAR-10 Batch 2:  Loss:     0.6816 Validation Accuracy: 0.551600\n",
      "Epoch 90, CIFAR-10 Batch 3:  Loss:     0.6792 Validation Accuracy: 0.560000\n",
      "Epoch 90, CIFAR-10 Batch 4:  Loss:     0.7947 Validation Accuracy: 0.532800\n",
      "Epoch 90, CIFAR-10 Batch 5:  Loss:     0.7961 Validation Accuracy: 0.540400\n",
      "Epoch 91, CIFAR-10 Batch 1:  Loss:     0.9711 Validation Accuracy: 0.543800\n",
      "Epoch 91, CIFAR-10 Batch 2:  Loss:     0.6517 Validation Accuracy: 0.561200\n",
      "Epoch 91, CIFAR-10 Batch 3:  Loss:     0.6747 Validation Accuracy: 0.559600\n",
      "Epoch 91, CIFAR-10 Batch 4:  Loss:     0.8323 Validation Accuracy: 0.530400\n",
      "Epoch 91, CIFAR-10 Batch 5:  Loss:     0.8549 Validation Accuracy: 0.542600\n",
      "Epoch 92, CIFAR-10 Batch 1:  Loss:     0.9378 Validation Accuracy: 0.550800\n",
      "Epoch 92, CIFAR-10 Batch 2:  Loss:     0.6820 Validation Accuracy: 0.558600\n",
      "Epoch 92, CIFAR-10 Batch 3:  Loss:     0.6674 Validation Accuracy: 0.560000\n",
      "Epoch 92, CIFAR-10 Batch 4:  Loss:     0.8169 Validation Accuracy: 0.542400\n",
      "Epoch 92, CIFAR-10 Batch 5:  Loss:     0.7566 Validation Accuracy: 0.553400\n",
      "Epoch 93, CIFAR-10 Batch 1:  Loss:     0.8915 Validation Accuracy: 0.552400\n",
      "Epoch 93, CIFAR-10 Batch 2:  Loss:     0.6357 Validation Accuracy: 0.564000\n",
      "Epoch 93, CIFAR-10 Batch 3:  Loss:     0.6969 Validation Accuracy: 0.546600\n",
      "Epoch 93, CIFAR-10 Batch 4:  Loss:     0.8147 Validation Accuracy: 0.534800\n",
      "Epoch 93, CIFAR-10 Batch 5:  Loss:     0.8094 Validation Accuracy: 0.556200\n",
      "Epoch 94, CIFAR-10 Batch 1:  Loss:     0.8782 Validation Accuracy: 0.553800\n",
      "Epoch 94, CIFAR-10 Batch 2:  Loss:     0.6420 Validation Accuracy: 0.556800\n",
      "Epoch 94, CIFAR-10 Batch 3:  Loss:     0.6517 Validation Accuracy: 0.562200\n",
      "Epoch 94, CIFAR-10 Batch 4:  Loss:     0.7516 Validation Accuracy: 0.544200\n",
      "Epoch 94, CIFAR-10 Batch 5:  Loss:     0.7117 Validation Accuracy: 0.556400\n",
      "Epoch 95, CIFAR-10 Batch 1:  Loss:     0.8385 Validation Accuracy: 0.554200\n",
      "Epoch 95, CIFAR-10 Batch 2:  Loss:     0.6159 Validation Accuracy: 0.556800\n",
      "Epoch 95, CIFAR-10 Batch 3:  Loss:     0.6498 Validation Accuracy: 0.548200\n",
      "Epoch 95, CIFAR-10 Batch 4:  Loss:     0.8290 Validation Accuracy: 0.532200\n",
      "Epoch 95, CIFAR-10 Batch 5:  Loss:     0.8707 Validation Accuracy: 0.545400\n",
      "Epoch 96, CIFAR-10 Batch 1:  Loss:     0.8689 Validation Accuracy: 0.553400\n",
      "Epoch 96, CIFAR-10 Batch 2:  Loss:     0.6417 Validation Accuracy: 0.560000\n",
      "Epoch 96, CIFAR-10 Batch 3:  Loss:     0.6625 Validation Accuracy: 0.544600\n",
      "Epoch 96, CIFAR-10 Batch 4:  Loss:     0.7699 Validation Accuracy: 0.542200\n",
      "Epoch 96, CIFAR-10 Batch 5:  Loss:     0.7332 Validation Accuracy: 0.554000\n",
      "Epoch 97, CIFAR-10 Batch 1:  Loss:     0.8245 Validation Accuracy: 0.555400\n",
      "Epoch 97, CIFAR-10 Batch 2:  Loss:     0.6164 Validation Accuracy: 0.560400\n",
      "Epoch 97, CIFAR-10 Batch 3:  Loss:     0.6795 Validation Accuracy: 0.541600\n",
      "Epoch 97, CIFAR-10 Batch 4:  Loss:     0.7530 Validation Accuracy: 0.542400\n",
      "Epoch 97, CIFAR-10 Batch 5:  Loss:     0.7695 Validation Accuracy: 0.553600\n",
      "Epoch 98, CIFAR-10 Batch 1:  Loss:     0.8232 Validation Accuracy: 0.555000\n",
      "Epoch 98, CIFAR-10 Batch 2:  Loss:     0.6233 Validation Accuracy: 0.554000\n",
      "Epoch 98, CIFAR-10 Batch 3:  Loss:     0.6568 Validation Accuracy: 0.550000\n",
      "Epoch 98, CIFAR-10 Batch 4:  Loss:     0.7703 Validation Accuracy: 0.535600\n",
      "Epoch 98, CIFAR-10 Batch 5:  Loss:     0.7055 Validation Accuracy: 0.555000\n",
      "Epoch 99, CIFAR-10 Batch 1:  Loss:     0.8464 Validation Accuracy: 0.551000\n",
      "Epoch 99, CIFAR-10 Batch 2:  Loss:     0.6462 Validation Accuracy: 0.557000\n",
      "Epoch 99, CIFAR-10 Batch 3:  Loss:     0.6662 Validation Accuracy: 0.544200\n",
      "Epoch 99, CIFAR-10 Batch 4:  Loss:     0.7755 Validation Accuracy: 0.535600\n",
      "Epoch 99, CIFAR-10 Batch 5:  Loss:     0.7638 Validation Accuracy: 0.549000\n",
      "Epoch 100, CIFAR-10 Batch 1:  Loss:     0.8573 Validation Accuracy: 0.553000\n",
      "Epoch 100, CIFAR-10 Batch 2:  Loss:     0.6319 Validation Accuracy: 0.562800\n",
      "Epoch 100, CIFAR-10 Batch 3:  Loss:     0.6271 Validation Accuracy: 0.545000\n",
      "Epoch 100, CIFAR-10 Batch 4:  Loss:     0.7611 Validation Accuracy: 0.537600\n",
      "Epoch 100, CIFAR-10 Batch 5:  Loss:     0.7344 Validation Accuracy: 0.547600\n"
     ]
    }
   ],
   "source": [
    "\"\"\"\n",
    "DON'T MODIFY ANYTHING IN THIS CELL\n",
    "\"\"\"\n",
    "save_model_path = './image_classification'\n",
    "\n",
    "print('Training...')\n",
    "with tf.Session() as sess:\n",
    "    # Initializing the variables\n",
    "    sess.run(tf.global_variables_initializer())\n",
    "    \n",
    "    # Training cycle\n",
    "    for epoch in range(epochs):\n",
    "        # Loop over all batches\n",
    "        n_batches = 5\n",
    "        for batch_i in range(1, n_batches + 1):\n",
    "            for batch_features, batch_labels in helper.load_preprocess_training_batch(batch_i, batch_size):\n",
    "                train_neural_network(sess, optimizer, keep_probability, batch_features, batch_labels)\n",
    "            print('Epoch {:>2}, CIFAR-10 Batch {}:  '.format(epoch + 1, batch_i), end='')\n",
    "            print_stats(sess, batch_features, batch_labels, cost, accuracy)\n",
    "            \n",
    "    # Save Model\n",
    "    saver = tf.train.Saver()\n",
    "    save_path = saver.save(sess, save_model_path)"
   ]
  },
  {
   "cell_type": "markdown",
   "metadata": {
    "deletable": true,
    "editable": true
   },
   "source": [
    "# Checkpoint\n",
    "The model has been saved to disk.\n",
    "## Test Model\n",
    "Test your model against the test dataset.  This will be your final accuracy. You should have an accuracy greater than 50%. If you don't, keep tweaking the model architecture and parameters."
   ]
  },
  {
   "cell_type": "code",
   "execution_count": 30,
   "metadata": {
    "collapsed": false,
    "deletable": true,
    "editable": true
   },
   "outputs": [
    {
     "name": "stdout",
     "output_type": "stream",
     "text": [
      "Testing Accuracy: 0.5518626115824047\n",
      "\n"
     ]
    },
    {
     "data": {
      "image/png": "[encoded data removed]",
      "text/plain": [
       "<matplotlib.figure.Figure at 0x7fcb34652048>"
      ]
     },
     "metadata": {
      "image/png": {
       "height": 319,
       "width": 355
      }
     },
     "output_type": "display_data"
    }
   ],
   "source": [
    "\"\"\"\n",
    "DON'T MODIFY ANYTHING IN THIS CELL\n",
    "\"\"\"\n",
    "%matplotlib inline\n",
    "%config InlineBackend.figure_format = 'retina'\n",
    "\n",
    "import tensorflow as tf\n",
    "import pickle\n",
    "import helper\n",
    "import random\n",
    "\n",
    "# Set batch size if not already set\n",
    "try:\n",
    "    if batch_size:\n",
    "        pass\n",
    "except NameError:\n",
    "    batch_size = 64\n",
    "\n",
    "save_model_path = './image_classification'\n",
    "n_samples = 4\n",
    "top_n_predictions = 3\n",
    "\n",
    "def test_model():\n",
    "    \"\"\"\n",
    "    Test the saved model against the test dataset\n",
    "    \"\"\"\n",
    "\n",
    "    test_features, test_labels = pickle.load(open('preprocess_training.p', mode='rb'))\n",
    "    loaded_graph = tf.Graph()\n",
    "\n",
    "    with tf.Session(graph=loaded_graph) as sess:\n",
    "        # Load model\n",
    "        loader = tf.train.import_meta_graph(save_model_path + '.meta')\n",
    "        loader.restore(sess, save_model_path)\n",
    "\n",
    "        # Get Tensors from loaded model\n",
    "        loaded_x = loaded_graph.get_tensor_by_name('x:0')\n",
    "        loaded_y = loaded_graph.get_tensor_by_name('y:0')\n",
    "        loaded_keep_prob = loaded_graph.get_tensor_by_name('keep_prob:0')\n",
    "        loaded_logits = loaded_graph.get_tensor_by_name('logits:0')\n",
    "        loaded_acc = loaded_graph.get_tensor_by_name('accuracy:0')\n",
    "        \n",
    "        # Get accuracy in batches for memory limitations\n",
    "        test_batch_acc_total = 0\n",
    "        test_batch_count = 0\n",
    "        \n",
    "        for train_feature_batch, train_label_batch in helper.batch_features_labels(test_features, test_labels, batch_size):\n",
    "            test_batch_acc_total += sess.run(\n",
    "                loaded_acc,\n",
    "                feed_dict={loaded_x: train_feature_batch, loaded_y: train_label_batch, loaded_keep_prob: 1.0})\n",
    "            test_batch_count += 1\n",
    "\n",
    "        print('Testing Accuracy: {}\\n'.format(test_batch_acc_total/test_batch_count))\n",
    "\n",
    "        # Print Random Samples\n",
    "        random_test_features, random_test_labels = tuple(zip(*random.sample(list(zip(test_features, test_labels)), n_samples)))\n",
    "        random_test_predictions = sess.run(\n",
    "            tf.nn.top_k(tf.nn.softmax(loaded_logits), top_n_predictions),\n",
    "            feed_dict={loaded_x: random_test_features, loaded_y: random_test_labels, loaded_keep_prob: 1.0})\n",
    "        helper.display_image_predictions(random_test_features, random_test_labels, random_test_predictions)\n",
    "\n",
    "\n",
    "test_model()"
   ]
  },
  {
   "cell_type": "markdown",
   "metadata": {
    "deletable": true,
    "editable": true
   },
   "source": [
    "## Why 50-70% Accuracy?\n",
    "You might be wondering why you can't get an accuracy any higher. First things first, 50% isn't bad for a simple CNN.  Pure guessing would get you 10% accuracy. However, you might notice people are getting scores [well above 70%](http://rodrigob.github.io/are_we_there_yet/build/classification_datasets_results.html#43494641522d3130).  That's because we haven't taught you all there is to know about neural networks. We still need to cover a few more techniques.\n",
    "## Submitting This Project\n",
    "When submitting this project, make sure to run all the cells before saving the notebook.  Save the notebook file as \"dlnd_image_classification.ipynb\" and save it as a HTML file under \"File\" -> \"Download as\".  Include the \"helper.py\" and \"problem_unittests.py\" files in your submission."
   ]
  }
 ],
 "metadata": {
  "kernelspec": {
   "display_name": "Python 3",
   "language": "python",
   "name": "python3"
  },
  "language_info": {
   "codemirror_mode": {
    "name": "ipython",
    "version": 3
   },
   "file_extension": ".py",
   "mimetype": "text/x-python",
   "name": "python",
   "nbconvert_exporter": "python",
   "pygments_lexer": "ipython3",
   "version": "3.5.3"
  },
  "widgets": {
   "state": {},
   "version": "1.1.2"
  }
 },
 "nbformat": 4,
 "nbformat_minor": 0
}
